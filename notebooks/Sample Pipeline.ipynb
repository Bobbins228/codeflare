{
 "cells": [
  {
   "cell_type": "code",
   "execution_count": 1,
   "id": "described-lover",
   "metadata": {},
   "outputs": [],
   "source": [
    "%config IPCompleter.use_jedi = False"
   ]
  },
  {
   "cell_type": "code",
   "execution_count": 2,
   "id": "simplified-summit",
   "metadata": {},
   "outputs": [
    {
     "data": {
      "text/plain": [
       "Gender                object\n",
       "Married               object\n",
       "Dependents            object\n",
       "Education             object\n",
       "Self_Employed         object\n",
       "ApplicantIncome        int64\n",
       "CoapplicantIncome    float64\n",
       "LoanAmount           float64\n",
       "Loan_Amount_Term     float64\n",
       "Credit_History       float64\n",
       "Property_Area         object\n",
       "Loan_Status           object\n",
       "dtype: object"
      ]
     },
     "execution_count": 2,
     "metadata": {},
     "output_type": "execute_result"
    }
   ],
   "source": [
    "import pandas as pd\n",
    "train = pd.read_csv('../resources/data/train_ctrUa4K.csv')\n",
    "test = pd.read_csv('../resources/data/test_lAUu6dG.csv')\n",
    "train = train.drop('Loan_ID', axis=1)\n",
    "train.dtypes"
   ]
  },
  {
   "cell_type": "code",
   "execution_count": 3,
   "id": "configured-clinton",
   "metadata": {},
   "outputs": [
    {
     "data": {
      "text/plain": [
       "(614, 12)"
      ]
     },
     "execution_count": 3,
     "metadata": {},
     "output_type": "execute_result"
    }
   ],
   "source": [
    "train.shape"
   ]
  },
  {
   "cell_type": "code",
   "execution_count": 4,
   "id": "confident-union",
   "metadata": {},
   "outputs": [],
   "source": [
    "X = train.drop('Loan_Status', axis=1)\n",
    "y = train['Loan_Status']\n",
    "from sklearn.model_selection import train_test_split\n",
    "X_train, X_test, y_train, y_test = train_test_split(X, y, test_size=0.2)"
   ]
  },
  {
   "cell_type": "code",
   "execution_count": 5,
   "id": "visible-compact",
   "metadata": {},
   "outputs": [],
   "source": [
    "from sklearn.pipeline import Pipeline\n",
    "from sklearn.impute import SimpleImputer\n",
    "from sklearn.preprocessing import StandardScaler, OneHotEncoder\n",
    "\n",
    "imputer = SimpleImputer(strategy='median')\n",
    "scaler = StandardScaler()\n",
    "\n",
    "numeric_transformer = Pipeline(steps=[\n",
    "    ('imputer', imputer),\n",
    "    ('scaler', scaler)])\n",
    "\n",
    "cat_imputer = SimpleImputer(strategy='constant', fill_value='missing')\n",
    "cat_onehot = OneHotEncoder(handle_unknown='ignore')\n",
    "\n",
    "categorical_transformer = Pipeline(steps=[\n",
    "    ('imputer', cat_imputer),\n",
    "    ('onehot', cat_onehot)])"
   ]
  },
  {
   "cell_type": "code",
   "execution_count": 6,
   "id": "stupid-miracle",
   "metadata": {},
   "outputs": [],
   "source": [
    "numeric_features = train.select_dtypes(include=['int64', 'float64']).columns\n",
    "categorical_features = train.select_dtypes(include=['object']).drop(['Loan_Status'], axis=1).columns\n",
    "from sklearn.compose import ColumnTransformer\n",
    "preprocessor = ColumnTransformer(\n",
    "    transformers=[\n",
    "        ('num', numeric_transformer, numeric_features),\n",
    "        ('cat', categorical_transformer, categorical_features)])"
   ]
  },
  {
   "cell_type": "code",
   "execution_count": 7,
   "id": "accredited-japan",
   "metadata": {},
   "outputs": [
    {
     "name": "stdout",
     "output_type": "stream",
     "text": [
      "Time taken: 0.017487764358520508\n"
     ]
    }
   ],
   "source": [
    "import time\n",
    "\n",
    "start = time.time()\n",
    "Xt = preprocessor.fit(X_train)\n",
    "end = time.time()\n",
    "print('Time taken: ' + str(end - start))"
   ]
  },
  {
   "cell_type": "code",
   "execution_count": 8,
   "id": "fundamental-builder",
   "metadata": {},
   "outputs": [],
   "source": [
    "from sklearn.ensemble import RandomForestClassifier\n",
    "rf = Pipeline(steps=[('preprocessor', preprocessor),\n",
    "                      ('classifier', RandomForestClassifier())])"
   ]
  },
  {
   "cell_type": "code",
   "execution_count": 9,
   "id": "ahead-narrow",
   "metadata": {},
   "outputs": [],
   "source": [
    "from sklearn.base import ClassifierMixin\n",
    "from sklearn.base import BaseEstimator\n",
    "\n",
    "class ScaleTestEstimator(ClassifierMixin, BaseEstimator):\n",
    "    num_iters = 100\n",
    "    classifier : ClassifierMixin = None\n",
    "\n",
    "    def __init__(self, num_iters, classifier: ClassifierMixin):\n",
    "        self.num_iters = num_iters\n",
    "        self.classifier = classifier\n",
    "\n",
    "    def fit(self, X, y):\n",
    "        for i in range(self.num_iters):\n",
    "            self.classifier.fit(X, y)\n",
    "        return self\n",
    "            \n",
    "    def predict(self, X):\n",
    "        return self.classifier.predict(X)\n",
    "\n",
    "    def score(self, X, y, sample_weight=None):\n",
    "        return self.classifier.score(X, y, sample_weight)"
   ]
  },
  {
   "cell_type": "code",
   "execution_count": 10,
   "id": "specialized-provider",
   "metadata": {},
   "outputs": [],
   "source": [
    "Xt = preprocessor.fit_transform(X_train)"
   ]
  },
  {
   "cell_type": "code",
   "execution_count": 11,
   "id": "above-masters",
   "metadata": {},
   "outputs": [],
   "source": [
    "from sklearn.metrics import accuracy_score, log_loss\n",
    "from sklearn.neighbors import KNeighborsClassifier\n",
    "from sklearn.svm import SVC, LinearSVC, NuSVC\n",
    "from sklearn.tree import DecisionTreeClassifier\n",
    "from sklearn.ensemble import RandomForestClassifier, AdaBoostClassifier, GradientBoostingClassifier\n",
    "from sklearn.discriminant_analysis import LinearDiscriminantAnalysis\n",
    "from sklearn.discriminant_analysis import QuadraticDiscriminantAnalysis\n",
    "classifiers = [\n",
    "    KNeighborsClassifier(3),\n",
    "    SVC(kernel=\"rbf\", C=0.025, probability=True),\n",
    "    NuSVC(probability=True),\n",
    "    DecisionTreeClassifier(),\n",
    "    RandomForestClassifier(),\n",
    "    AdaBoostClassifier(),\n",
    "    GradientBoostingClassifier()\n",
    "    ]"
   ]
  },
  {
   "cell_type": "code",
   "execution_count": 12,
   "id": "bacterial-morocco",
   "metadata": {},
   "outputs": [
    {
     "data": {
      "text/plain": [
       "KNeighborsClassifier(n_neighbors=3)"
      ]
     },
     "execution_count": 12,
     "metadata": {},
     "output_type": "execute_result"
    }
   ],
   "source": [
    "classifiers[0]"
   ]
  },
  {
   "cell_type": "code",
   "execution_count": 13,
   "id": "sudden-british",
   "metadata": {},
   "outputs": [],
   "source": [
    "c_a = ScaleTestEstimator(50, DecisionTreeClassifier())\n",
    "c_b = ScaleTestEstimator(50, RandomForestClassifier())\n",
    "c_c = ScaleTestEstimator(50, GradientBoostingClassifier())\n",
    "classifiers = [c_a, c_b, c_c]"
   ]
  },
  {
   "cell_type": "code",
   "execution_count": 14,
   "id": "imposed-practice",
   "metadata": {},
   "outputs": [],
   "source": [
    "import sklearn.base as base"
   ]
  },
  {
   "cell_type": "code",
   "execution_count": 15,
   "id": "tired-breast",
   "metadata": {},
   "outputs": [
    {
     "data": {
      "text/plain": [
       "True"
      ]
     },
     "execution_count": 15,
     "metadata": {},
     "output_type": "execute_result"
    }
   ],
   "source": [
    "base.is_classifier(c_a)"
   ]
  },
  {
   "cell_type": "code",
   "execution_count": 16,
   "id": "overall-review",
   "metadata": {},
   "outputs": [
    {
     "data": {
      "text/plain": [
       "ScaleTestEstimator(classifier=DecisionTreeClassifier(), num_iters=50)"
      ]
     },
     "execution_count": 16,
     "metadata": {},
     "output_type": "execute_result"
    }
   ],
   "source": [
    "base.clone(c_a)"
   ]
  },
  {
   "cell_type": "code",
   "execution_count": null,
   "id": "parallel-collective",
   "metadata": {},
   "outputs": [],
   "source": []
  },
  {
   "cell_type": "code",
   "execution_count": null,
   "id": "threatened-seattle",
   "metadata": {},
   "outputs": [],
   "source": []
  },
  {
   "cell_type": "code",
   "execution_count": 17,
   "id": "greatest-cancellation",
   "metadata": {},
   "outputs": [
    {
     "name": "stdout",
     "output_type": "stream",
     "text": [
      "time taken: 12.7434241771698\n"
     ]
    }
   ],
   "source": [
    "import time\n",
    "start = time.time()\n",
    "\n",
    "c_a = ScaleTestEstimator(50, DecisionTreeClassifier())\n",
    "c_b = ScaleTestEstimator(50, RandomForestClassifier())\n",
    "c_c = ScaleTestEstimator(50, GradientBoostingClassifier())\n",
    "classifiers = [c_a, c_b, c_c]\n",
    "\n",
    "classifier_results=[]\n",
    "for classifier in classifiers:\n",
    "    pipe = Pipeline(steps=[('preprocessor', preprocessor),\n",
    "                      ('classifier', classifier)])\n",
    "    pipe.fit(X_train, y_train)\n",
    "    pipe.predict(X_train)\n",
    "    \n",
    "end = time.time()\n",
    "tt = end - start\n",
    "print('time taken: ' + str(tt))"
   ]
  },
  {
   "cell_type": "code",
   "execution_count": 18,
   "id": "a1757296",
   "metadata": {},
   "outputs": [
    {
     "data": {
      "text/plain": [
       "array([0.22527704, 0.06495905, 0.19980371, 0.04205929, 0.29561989,\n",
       "       0.03008967, 0.01568684, 0.        , 0.01922802, 0.00466606,\n",
       "       0.        , 0.03773385, 0.00466606, 0.00679987, 0.0026172 ,\n",
       "       0.        , 0.01373667, 0.00555483, 0.        , 0.00379841,\n",
       "       0.        , 0.01777372, 0.00992982, 0.        ])"
      ]
     },
     "execution_count": 18,
     "metadata": {},
     "output_type": "execute_result"
    }
   ],
   "source": [
    "c_a.classifier.feature_importances_"
   ]
  },
  {
   "cell_type": "code",
   "execution_count": 19,
   "id": "coordinate-gossip",
   "metadata": {},
   "outputs": [],
   "source": [
    "import ray\n",
    "ray.shutdown()"
   ]
  },
  {
   "cell_type": "code",
   "execution_count": 20,
   "id": "bfe20bd8",
   "metadata": {},
   "outputs": [
    {
     "name": "stderr",
     "output_type": "stream",
     "text": [
      "2021-05-20 17:01:24,855\tINFO services.py:1092 -- View the Ray dashboard at \u001b[1m\u001b[32mhttp://127.0.0.1:8266\u001b[39m\u001b[22m\n"
     ]
    },
    {
     "data": {
      "text/plain": [
       "{'node_ip_address': '9.163.5.112',\n",
       " 'raylet_ip_address': '9.163.5.112',\n",
       " 'redis_address': '9.163.5.112:63084',\n",
       " 'object_store_address': '/tmp/ray/session_2021-05-20_17-01-24_164005_11285/sockets/plasma_store',\n",
       " 'raylet_socket_name': '/tmp/ray/session_2021-05-20_17-01-24_164005_11285/sockets/raylet',\n",
       " 'webui_url': '127.0.0.1:8266',\n",
       " 'session_dir': '/tmp/ray/session_2021-05-20_17-01-24_164005_11285',\n",
       " 'metrics_export_port': 61397,\n",
       " 'node_id': '41e3d7d7d616af3ae3eb8e5d0bc4105bd4af2ca6'}"
      ]
     },
     "execution_count": 20,
     "metadata": {},
     "output_type": "execute_result"
    }
   ],
   "source": [
    "ray.init()"
   ]
  },
  {
   "cell_type": "code",
   "execution_count": 21,
   "id": "invisible-consensus",
   "metadata": {},
   "outputs": [],
   "source": [
    "from codeflare.pipelines.Datamodel import Xy\n",
    "from codeflare.pipelines.Datamodel import XYRef\n",
    "import codeflare.pipelines.Datamodel as dm"
   ]
  },
  {
   "cell_type": "code",
   "execution_count": 22,
   "id": "normal-veteran",
   "metadata": {},
   "outputs": [],
   "source": [
    "X_ref = ray.put(X_train)\n",
    "y_ref = ray.put(y_train)\n",
    "\n",
    "Xy_ref = XYRef(X_ref, y_ref)\n",
    "Xy_ref_ptr = ray.put(Xy_ref)\n",
    "Xy_ref_ptrs = [Xy_ref_ptr]"
   ]
  },
  {
   "cell_type": "code",
   "execution_count": 23,
   "id": "surface-recruitment",
   "metadata": {},
   "outputs": [],
   "source": [
    "pipeline = dm.Pipeline()"
   ]
  },
  {
   "cell_type": "code",
   "execution_count": 24,
   "id": "humanitarian-boards",
   "metadata": {},
   "outputs": [],
   "source": [
    "node_a = dm.EstimatorNode('preprocess', preprocessor)\n",
    "node_b = dm.EstimatorNode('c_a', c_a)\n",
    "node_c = dm.EstimatorNode('c_b', c_b)\n",
    "node_d = dm.EstimatorNode('c_c', c_c)"
   ]
  },
  {
   "cell_type": "code",
   "execution_count": 25,
   "id": "popular-bookmark",
   "metadata": {},
   "outputs": [],
   "source": [
    "pipeline.add_edge(node_a, node_b)\n",
    "pipeline.add_edge(node_a, node_c)\n",
    "pipeline.add_edge(node_a, node_d)"
   ]
  },
  {
   "cell_type": "code",
   "execution_count": 26,
   "id": "mineral-analyst",
   "metadata": {},
   "outputs": [],
   "source": [
    "import codeflare.pipelines.Runtime as rt"
   ]
  },
  {
   "cell_type": "code",
   "execution_count": 27,
   "id": "literary-consolidation",
   "metadata": {},
   "outputs": [],
   "source": [
    "from codeflare.pipelines.Runtime import ExecutionType"
   ]
  },
  {
   "cell_type": "code",
   "execution_count": 28,
   "id": "educated-basement",
   "metadata": {},
   "outputs": [
    {
     "name": "stdout",
     "output_type": "stream",
     "text": [
      "Time taken: 10.181408166885376\n"
     ]
    }
   ],
   "source": [
    "start = time.time()\n",
    "\n",
    "\n",
    "in_args={node_a: Xy_ref_ptrs}\n",
    "\n",
    "out_args = rt.execute_pipeline(pipeline, ExecutionType.FIT, in_args)\n",
    "\n",
    "node_b_out_args = ray.get(out_args[node_b])\n",
    "node_c_out_args = ray.get(out_args[node_c])\n",
    "node_d_out_args = ray.get(out_args[node_d])\n",
    "end = time.time()\n",
    "print ('Time taken: ' + str(end - start))"
   ]
  },
  {
   "cell_type": "code",
   "execution_count": 29,
   "id": "physical-shadow",
   "metadata": {},
   "outputs": [],
   "source": [
    "b_out_xyref = node_b_out_args[0]"
   ]
  },
  {
   "cell_type": "code",
   "execution_count": 39,
   "id": "2768e179",
   "metadata": {},
   "outputs": [
    {
     "name": "stdout",
     "output_type": "stream",
     "text": [
      "c_a\n"
     ]
    }
   ],
   "source": [
    "b_out_node = ray.get(b_out_xyref.get_curr_node_state_ref())\n",
    "print(b_out_node)"
   ]
  },
  {
   "cell_type": "code",
   "execution_count": 35,
   "id": "f953474b",
   "metadata": {},
   "outputs": [],
   "source": [
    "from queue import SimpleQueue\n",
    "\n",
    "def select_pipeline(chosen_xyref: dm.XYRef):\n",
    "    pipeline = dm.Pipeline()\n",
    "    xyref_queue = SimpleQueue()\n",
    "\n",
    "    xyref_queue.put(chosen_xyref)\n",
    "    while not xyref_queue.empty():\n",
    "        curr_xyref = xyref_queue.get()\n",
    "        curr_node_state_ptr = curr_xyref.get_curr_node_state_ref()\n",
    "        curr_node = ray.get(curr_node_state_ptr)\n",
    "        prev_xyrefs = curr_xyref.get_prev_xyrefs()\n",
    "\n",
    "        # TODO: Avoid redundant gets from Plasma\n",
    "        for prev_xyref in prev_xyrefs:\n",
    "            prev_node_state_ptr = prev_xyref.get_curr_node_state_ref()\n",
    "            if prev_node_state_ptr is None:\n",
    "                continue\n",
    "            prev_node = ray.get(prev_node_state_ptr)\n",
    "            pipeline.add_edge(prev_node, curr_node)\n",
    "            xyref_queue.put(prev_xyref)\n",
    "\n",
    "    return pipeline"
   ]
  },
  {
   "cell_type": "code",
   "execution_count": null,
   "id": "92f566f9",
   "metadata": {},
   "outputs": [],
   "source": []
  },
  {
   "cell_type": "code",
   "execution_count": 36,
   "id": "9e153862",
   "metadata": {},
   "outputs": [],
   "source": [
    "selected_pipeline = select_pipeline(b_out_xyref)"
   ]
  },
  {
   "cell_type": "code",
   "execution_count": 38,
   "id": "c612e1b0",
   "metadata": {},
   "outputs": [
    {
     "name": "stdout",
     "output_type": "stream",
     "text": [
      "preprocess=\r\n",
      "c_a=preprocess \r\n",
      "\n"
     ]
    }
   ],
   "source": [
    "print(selected_pipeline)"
   ]
  },
  {
   "cell_type": "code",
   "execution_count": 31,
   "id": "63d811a5",
   "metadata": {},
   "outputs": [],
   "source": [
    "sct_b = b_out_node.get_estimator()"
   ]
  },
  {
   "cell_type": "code",
   "execution_count": 32,
   "id": "e052f7c3",
   "metadata": {},
   "outputs": [
    {
     "data": {
      "text/plain": [
       "array([0.26236339, 0.12083345, 0.12496558, 0.04444804, 0.28911579,\n",
       "       0.        , 0.00864215, 0.        , 0.01927939, 0.        ,\n",
       "       0.        , 0.01442373, 0.01467353, 0.        , 0.        ,\n",
       "       0.        , 0.01001143, 0.009082  , 0.        , 0.        ,\n",
       "       0.02530827, 0.02740242, 0.01255431, 0.01689652])"
      ]
     },
     "execution_count": 32,
     "metadata": {},
     "output_type": "execute_result"
    }
   ],
   "source": [
    "sct_b.classifier.feature_importances_"
   ]
  },
  {
   "cell_type": "code",
   "execution_count": null,
   "id": "97d78981",
   "metadata": {},
   "outputs": [],
   "source": []
  }
 ],
 "metadata": {
  "kernelspec": {
   "display_name": "Python 3",
   "language": "python",
   "name": "python3"
  },
  "language_info": {
   "codemirror_mode": {
    "name": "ipython",
    "version": 3
   },
   "file_extension": ".py",
   "mimetype": "text/x-python",
   "name": "python",
   "nbconvert_exporter": "python",
   "pygments_lexer": "ipython3",
   "version": "3.7.9"
  }
 },
 "nbformat": 4,
 "nbformat_minor": 5
}
