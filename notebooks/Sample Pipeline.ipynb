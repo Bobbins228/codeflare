{
 "cells": [
  {
   "cell_type": "code",
   "execution_count": 1,
   "id": "described-lover",
   "metadata": {},
   "outputs": [],
   "source": [
    "%config IPCompleter.use_jedi = False"
   ]
  },
  {
   "cell_type": "code",
   "execution_count": 2,
   "id": "simplified-summit",
   "metadata": {},
   "outputs": [
    {
     "data": {
      "text/plain": [
       "Gender                object\n",
       "Married               object\n",
       "Dependents            object\n",
       "Education             object\n",
       "Self_Employed         object\n",
       "ApplicantIncome        int64\n",
       "CoapplicantIncome    float64\n",
       "LoanAmount           float64\n",
       "Loan_Amount_Term     float64\n",
       "Credit_History       float64\n",
       "Property_Area         object\n",
       "Loan_Status           object\n",
       "dtype: object"
      ]
     },
     "execution_count": 2,
     "metadata": {},
     "output_type": "execute_result"
    }
   ],
   "source": [
    "import pandas as pd\n",
    "train = pd.read_csv('../resources/data/train_ctrUa4K.csv')\n",
    "test = pd.read_csv('../resources/data/test_lAUu6dG.csv')\n",
    "train = train.drop('Loan_ID', axis=1)\n",
    "train.dtypes"
   ]
  },
  {
   "cell_type": "code",
   "execution_count": 3,
   "id": "configured-clinton",
   "metadata": {},
   "outputs": [
    {
     "data": {
      "text/plain": [
       "(614, 12)"
      ]
     },
     "execution_count": 3,
     "metadata": {},
     "output_type": "execute_result"
    }
   ],
   "source": [
    "train.shape"
   ]
  },
  {
   "cell_type": "code",
   "execution_count": 4,
   "id": "confident-union",
   "metadata": {},
   "outputs": [],
   "source": [
    "X = train.drop('Loan_Status', axis=1)\n",
    "y = train['Loan_Status']\n",
    "from sklearn.model_selection import train_test_split\n",
    "X_train, X_test, y_train, y_test = train_test_split(X, y, test_size=0.2)"
   ]
  },
  {
   "cell_type": "code",
   "execution_count": 5,
   "id": "visible-compact",
   "metadata": {},
   "outputs": [],
   "source": [
    "from sklearn.pipeline import Pipeline\n",
    "from sklearn.impute import SimpleImputer\n",
    "from sklearn.preprocessing import StandardScaler, OneHotEncoder\n",
    "\n",
    "imputer = SimpleImputer(strategy='median')\n",
    "scaler = StandardScaler()\n",
    "\n",
    "numeric_transformer = Pipeline(steps=[\n",
    "    ('imputer', imputer),\n",
    "    ('scaler', scaler)])\n",
    "\n",
    "cat_imputer = SimpleImputer(strategy='constant', fill_value='missing')\n",
    "cat_onehot = OneHotEncoder(handle_unknown='ignore')\n",
    "\n",
    "categorical_transformer = Pipeline(steps=[\n",
    "    ('imputer', cat_imputer),\n",
    "    ('onehot', cat_onehot)])"
   ]
  },
  {
   "cell_type": "code",
   "execution_count": 6,
   "id": "stupid-miracle",
   "metadata": {},
   "outputs": [],
   "source": [
    "numeric_features = train.select_dtypes(include=['int64', 'float64']).columns\n",
    "categorical_features = train.select_dtypes(include=['object']).drop(['Loan_Status'], axis=1).columns\n",
    "from sklearn.compose import ColumnTransformer\n",
    "preprocessor = ColumnTransformer(\n",
    "    transformers=[\n",
    "        ('num', numeric_transformer, numeric_features),\n",
    "        ('cat', categorical_transformer, categorical_features)])"
   ]
  },
  {
   "cell_type": "code",
   "execution_count": 7,
   "id": "accredited-japan",
   "metadata": {},
   "outputs": [
    {
     "name": "stdout",
     "output_type": "stream",
     "text": [
      "Time taken: 0.016479015350341797\n"
     ]
    }
   ],
   "source": [
    "import time\n",
    "\n",
    "start = time.time()\n",
    "Xt = preprocessor.fit(X_train)\n",
    "end = time.time()\n",
    "print('Time taken: ' + str(end - start))"
   ]
  },
  {
   "cell_type": "code",
   "execution_count": 8,
   "id": "fundamental-builder",
   "metadata": {},
   "outputs": [],
   "source": [
    "from sklearn.ensemble import RandomForestClassifier\n",
    "rf = Pipeline(steps=[('preprocessor', preprocessor),\n",
    "                      ('classifier', RandomForestClassifier())])"
   ]
  },
  {
   "cell_type": "code",
   "execution_count": 9,
   "id": "ahead-narrow",
   "metadata": {},
   "outputs": [],
   "source": [
    "from sklearn.base import ClassifierMixin\n",
    "from sklearn.base import BaseEstimator\n",
    "\n",
    "class ScaleTestEstimator(ClassifierMixin, BaseEstimator):\n",
    "    num_iters = 100\n",
    "    classifier : ClassifierMixin = None\n",
    "\n",
    "    def __init__(self, num_iters, classifier: ClassifierMixin):\n",
    "        self.num_iters = num_iters\n",
    "        self.classifier = classifier\n",
    "\n",
    "    def fit(self, X, y):\n",
    "        for i in range(self.num_iters):\n",
    "            self.classifier.fit(X, y)\n",
    "        return self\n",
    "            \n",
    "    def predict(self, X):\n",
    "        return self.classifier.predict(X)\n",
    "\n",
    "    def score(self, X, y, sample_weight=None):\n",
    "        return self.classifier.score(X, y, sample_weight)"
   ]
  },
  {
   "cell_type": "code",
   "execution_count": 10,
   "id": "specialized-provider",
   "metadata": {},
   "outputs": [],
   "source": [
    "Xt = preprocessor.fit_transform(X_train)"
   ]
  },
  {
   "cell_type": "code",
   "execution_count": 11,
   "id": "above-masters",
   "metadata": {},
   "outputs": [],
   "source": [
    "from sklearn.metrics import accuracy_score, log_loss\n",
    "from sklearn.neighbors import KNeighborsClassifier\n",
    "from sklearn.svm import SVC, LinearSVC, NuSVC\n",
    "from sklearn.tree import DecisionTreeClassifier\n",
    "from sklearn.ensemble import RandomForestClassifier, AdaBoostClassifier, GradientBoostingClassifier\n",
    "from sklearn.discriminant_analysis import LinearDiscriminantAnalysis\n",
    "from sklearn.discriminant_analysis import QuadraticDiscriminantAnalysis\n",
    "classifiers = [\n",
    "    KNeighborsClassifier(3),\n",
    "    SVC(kernel=\"rbf\", C=0.025, probability=True),\n",
    "    NuSVC(probability=True),\n",
    "    DecisionTreeClassifier(),\n",
    "    RandomForestClassifier(),\n",
    "    AdaBoostClassifier(),\n",
    "    GradientBoostingClassifier()\n",
    "    ]"
   ]
  },
  {
   "cell_type": "code",
   "execution_count": 12,
   "id": "bacterial-morocco",
   "metadata": {},
   "outputs": [
    {
     "data": {
      "text/plain": [
       "KNeighborsClassifier(n_neighbors=3)"
      ]
     },
     "execution_count": 12,
     "metadata": {},
     "output_type": "execute_result"
    }
   ],
   "source": [
    "classifiers[0]"
   ]
  },
  {
   "cell_type": "code",
   "execution_count": 13,
   "id": "sudden-british",
   "metadata": {},
   "outputs": [],
   "source": [
    "c_a = ScaleTestEstimator(50, DecisionTreeClassifier())\n",
    "c_b = ScaleTestEstimator(50, RandomForestClassifier())\n",
    "c_c = ScaleTestEstimator(50, GradientBoostingClassifier())\n",
    "classifiers = [c_a, c_b, c_c]"
   ]
  },
  {
   "cell_type": "code",
   "execution_count": 14,
   "id": "imposed-practice",
   "metadata": {},
   "outputs": [],
   "source": [
    "import sklearn.base as base"
   ]
  },
  {
   "cell_type": "code",
   "execution_count": 15,
   "id": "tired-breast",
   "metadata": {},
   "outputs": [
    {
     "data": {
      "text/plain": [
       "True"
      ]
     },
     "execution_count": 15,
     "metadata": {},
     "output_type": "execute_result"
    }
   ],
   "source": [
    "base.is_classifier(c_a)"
   ]
  },
  {
   "cell_type": "code",
   "execution_count": 16,
   "id": "overall-review",
   "metadata": {},
   "outputs": [
    {
     "data": {
      "text/plain": [
       "ScaleTestEstimator(classifier=DecisionTreeClassifier(), num_iters=50)"
      ]
     },
     "execution_count": 16,
     "metadata": {},
     "output_type": "execute_result"
    }
   ],
   "source": [
    "base.clone(c_a)"
   ]
  },
  {
   "cell_type": "code",
   "execution_count": null,
   "id": "parallel-collective",
   "metadata": {},
   "outputs": [],
   "source": []
  },
  {
   "cell_type": "code",
   "execution_count": null,
   "id": "threatened-seattle",
   "metadata": {},
   "outputs": [],
   "source": []
  },
  {
   "cell_type": "code",
   "execution_count": 17,
   "id": "greatest-cancellation",
   "metadata": {},
   "outputs": [
    {
     "name": "stdout",
     "output_type": "stream",
     "text": [
      "time taken: 12.496086835861206\n"
     ]
    }
   ],
   "source": [
    "import time\n",
    "start = time.time()\n",
    "\n",
    "c_a = ScaleTestEstimator(50, DecisionTreeClassifier())\n",
    "c_b = ScaleTestEstimator(50, RandomForestClassifier())\n",
    "c_c = ScaleTestEstimator(50, GradientBoostingClassifier())\n",
    "classifiers = [c_a, c_b, c_c]\n",
    "\n",
    "classifier_results=[]\n",
    "for classifier in classifiers:\n",
    "    pipe = Pipeline(steps=[('preprocessor', preprocessor),\n",
    "                      ('classifier', classifier)])\n",
    "    pipe.fit(X_train, y_train)\n",
    "    pipe.predict(X_train)\n",
    "    \n",
    "end = time.time()\n",
    "tt = end - start\n",
    "print('time taken: ' + str(tt))"
   ]
  },
  {
   "cell_type": "code",
   "execution_count": 18,
   "id": "a1757296",
   "metadata": {},
   "outputs": [
    {
     "data": {
      "text/plain": [
       "array([0.21490202, 0.06557283, 0.23722477, 0.03139458, 0.31057042,\n",
       "       0.00455733, 0.        , 0.00756582, 0.02029537, 0.00757656,\n",
       "       0.        , 0.01031702, 0.00563211, 0.00079753, 0.00417938,\n",
       "       0.        , 0.0051656 , 0.        , 0.01886081, 0.01271623,\n",
       "       0.02171503, 0.        , 0.01450846, 0.00644814])"
      ]
     },
     "execution_count": 18,
     "metadata": {},
     "output_type": "execute_result"
    }
   ],
   "source": [
    "c_a.classifier.feature_importances_"
   ]
  },
  {
   "cell_type": "code",
   "execution_count": 19,
   "id": "coordinate-gossip",
   "metadata": {},
   "outputs": [],
   "source": [
    "import ray\n",
    "ray.shutdown()"
   ]
  },
  {
   "cell_type": "code",
   "execution_count": 20,
   "id": "bfe20bd8",
   "metadata": {},
   "outputs": [
    {
     "name": "stderr",
     "output_type": "stream",
     "text": [
      "2021-05-25 15:58:35,795\tINFO services.py:1269 -- View the Ray dashboard at \u001b[1m\u001b[32mhttp://127.0.0.1:8266\u001b[39m\u001b[22m\n"
     ]
    },
    {
     "data": {
      "text/plain": [
       "{'node_ip_address': '9.163.5.112',\n",
       " 'raylet_ip_address': '9.163.5.112',\n",
       " 'redis_address': '9.163.5.112:47719',\n",
       " 'object_store_address': '/tmp/ray/session_2021-05-25_15-58-33_878617_17386/sockets/plasma_store',\n",
       " 'raylet_socket_name': '/tmp/ray/session_2021-05-25_15-58-33_878617_17386/sockets/raylet',\n",
       " 'webui_url': '127.0.0.1:8266',\n",
       " 'session_dir': '/tmp/ray/session_2021-05-25_15-58-33_878617_17386',\n",
       " 'metrics_export_port': 64892,\n",
       " 'node_id': '48193ca06c6cfff4e2763a58cdef41cf1cebcad123a7d0f560d7dadd'}"
      ]
     },
     "execution_count": 20,
     "metadata": {},
     "output_type": "execute_result"
    }
   ],
   "source": [
    "ray.init()"
   ]
  },
  {
   "cell_type": "code",
   "execution_count": 21,
   "id": "invisible-consensus",
   "metadata": {},
   "outputs": [],
   "source": [
    "import codeflare.pipelines.Datamodel as dm"
   ]
  },
  {
   "cell_type": "code",
   "execution_count": 22,
   "id": "surface-recruitment",
   "metadata": {},
   "outputs": [],
   "source": [
    "pipeline = dm.Pipeline()"
   ]
  },
  {
   "cell_type": "code",
   "execution_count": 23,
   "id": "humanitarian-boards",
   "metadata": {},
   "outputs": [],
   "source": [
    "node_a = dm.EstimatorNode('preprocess', preprocessor)\n",
    "node_b = dm.EstimatorNode('c_a', c_a)\n",
    "node_c = dm.EstimatorNode('c_b', c_b)\n",
    "node_d = dm.EstimatorNode('c_c', c_c)"
   ]
  },
  {
   "cell_type": "code",
   "execution_count": 24,
   "id": "popular-bookmark",
   "metadata": {},
   "outputs": [],
   "source": [
    "pipeline.add_edge(node_a, node_b)\n",
    "pipeline.add_edge(node_a, node_c)\n",
    "pipeline.add_edge(node_a, node_d)"
   ]
  },
  {
   "cell_type": "code",
   "execution_count": 25,
   "id": "ef9ff37b",
   "metadata": {},
   "outputs": [],
   "source": [
    "# create input\n",
    "pipeline_input = dm.PipelineInput()\n",
    "xy = dm.Xy(X_train, y_train)\n",
    "pipeline_input.add_xy_arg(node_a, xy)"
   ]
  },
  {
   "cell_type": "code",
   "execution_count": 26,
   "id": "mineral-analyst",
   "metadata": {},
   "outputs": [],
   "source": [
    "import codeflare.pipelines.Runtime as rt"
   ]
  },
  {
   "cell_type": "code",
   "execution_count": 27,
   "id": "literary-consolidation",
   "metadata": {},
   "outputs": [],
   "source": [
    "from codeflare.pipelines.Runtime import ExecutionType"
   ]
  },
  {
   "cell_type": "code",
   "execution_count": 28,
   "id": "educated-basement",
   "metadata": {},
   "outputs": [
    {
     "name": "stdout",
     "output_type": "stream",
     "text": [
      "Time taken: 10.172047138214111\n"
     ]
    }
   ],
   "source": [
    "start = time.time()\n",
    "\n",
    "pipeline_output = rt.execute_pipeline(pipeline, ExecutionType.FIT, pipeline_input)\n",
    "\n",
    "node_b_output = pipeline_output.get_xyrefs(node_b)\n",
    "node_c_output = pipeline_output.get_xyrefs(node_c)\n",
    "node_d_output = pipeline_output.get_xyrefs(node_d)\n",
    "\n",
    "end = time.time()\n",
    "print ('Time taken: ' + str(end - start))"
   ]
  },
  {
   "cell_type": "code",
   "execution_count": 29,
   "id": "be9e1c3a",
   "metadata": {},
   "outputs": [
    {
     "data": {
      "text/plain": [
       "[<codeflare.pipelines.Datamodel.XYRef at 0x7f87f00fd0d0>]"
      ]
     },
     "execution_count": 29,
     "metadata": {},
     "output_type": "execute_result"
    }
   ],
   "source": [
    "node_b_output"
   ]
  },
  {
   "cell_type": "code",
   "execution_count": 30,
   "id": "9e153862",
   "metadata": {},
   "outputs": [],
   "source": [
    "selected_pipeline = rt.select_pipeline(pipeline_output, node_b_output[0])"
   ]
  },
  {
   "cell_type": "code",
   "execution_count": 31,
   "id": "c612e1b0",
   "metadata": {},
   "outputs": [
    {
     "name": "stdout",
     "output_type": "stream",
     "text": [
      "preprocess=\r\n",
      "c_a=preprocess \r\n",
      "\n"
     ]
    }
   ],
   "source": [
    "print(selected_pipeline)"
   ]
  },
  {
   "cell_type": "code",
   "execution_count": null,
   "id": "97d78981",
   "metadata": {},
   "outputs": [],
   "source": []
  }
 ],
 "metadata": {
  "kernelspec": {
   "display_name": "Python 3",
   "language": "python",
   "name": "python3"
  },
  "language_info": {
   "codemirror_mode": {
    "name": "ipython",
    "version": 3
   },
   "file_extension": ".py",
   "mimetype": "text/x-python",
   "name": "python",
   "nbconvert_exporter": "python",
   "pygments_lexer": "ipython3",
   "version": "3.7.9"
  }
 },
 "nbformat": 4,
 "nbformat_minor": 5
}
