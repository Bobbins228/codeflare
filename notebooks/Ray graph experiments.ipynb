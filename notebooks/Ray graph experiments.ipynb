{
 "cells": [
  {
   "cell_type": "code",
   "execution_count": 1,
   "id": "israeli-batch",
   "metadata": {},
   "outputs": [],
   "source": [
    "import ray"
   ]
  },
  {
   "cell_type": "code",
   "execution_count": 2,
   "id": "loose-projector",
   "metadata": {},
   "outputs": [],
   "source": [
    "ray.shutdown()"
   ]
  },
  {
   "cell_type": "code",
   "execution_count": 3,
   "id": "renewable-western",
   "metadata": {},
   "outputs": [
    {
     "name": "stderr",
     "output_type": "stream",
     "text": [
      "2021-05-19 15:17:10,509\tINFO services.py:1092 -- View the Ray dashboard at \u001b[1m\u001b[32mhttp://127.0.0.1:8265\u001b[39m\u001b[22m\n"
     ]
    },
    {
     "data": {
      "text/plain": [
       "{'node_ip_address': '9.163.5.112',\n",
       " 'raylet_ip_address': '9.163.5.112',\n",
       " 'redis_address': '9.163.5.112:6379',\n",
       " 'object_store_address': '/tmp/ray/session_2021-05-19_15-17-09_977363_85364/sockets/plasma_store',\n",
       " 'raylet_socket_name': '/tmp/ray/session_2021-05-19_15-17-09_977363_85364/sockets/raylet',\n",
       " 'webui_url': '127.0.0.1:8265',\n",
       " 'session_dir': '/tmp/ray/session_2021-05-19_15-17-09_977363_85364',\n",
       " 'metrics_export_port': 58731,\n",
       " 'node_id': '47cffbd91e125383878344e76dd07babe812da2b'}"
      ]
     },
     "execution_count": 3,
     "metadata": {},
     "output_type": "execute_result"
    }
   ],
   "source": [
    "ray.init()"
   ]
  },
  {
   "cell_type": "code",
   "execution_count": 4,
   "id": "scheduled-miami",
   "metadata": {},
   "outputs": [],
   "source": [
    "%config IPCompleter.use_jedi = False"
   ]
  },
  {
   "cell_type": "code",
   "execution_count": 5,
   "id": "leading-sheriff",
   "metadata": {},
   "outputs": [],
   "source": [
    "import numpy as np\n",
    "from sklearn.preprocessing import FunctionTransformer\n",
    "from sklearn.preprocessing import MinMaxScaler\n",
    "\n",
    "transformer = FunctionTransformer(np.log1p)\n",
    "minmax_scaler = MinMaxScaler()"
   ]
  },
  {
   "cell_type": "code",
   "execution_count": 6,
   "id": "9adf2a27",
   "metadata": {},
   "outputs": [],
   "source": [
    "import codeflare.pipelines.Datamodel as dm\n",
    "\n",
    "class FeatureUnion(dm.AndFunc):\n",
    "    def __init__(self):\n",
    "        pass\n",
    "    \n",
    "    def eval(self, xy_list):\n",
    "        X_list = []\n",
    "        y_list = []\n",
    "        \n",
    "        for xy in xy_list:\n",
    "            X_list.append(xy.get_x())\n",
    "        X_concat = np.concatenate(X_list, axis=0)\n",
    "        \n",
    "        return Xy(X_concat, None)"
   ]
  },
  {
   "cell_type": "code",
   "execution_count": 7,
   "id": "olive-usage",
   "metadata": {},
   "outputs": [],
   "source": [
    "pipeline = dm.Pipeline()\n",
    "\n",
    "node_a = dm.OrNode('a', minmax_scaler)\n",
    "node_b = dm.OrNode('b', minmax_scaler)\n",
    "node_c = dm.AndNode('c', FeatureUnion())\n",
    "# node_d = dm.OrNode('d', transformer)\n",
    "\n",
    "pipeline.add_edge(node_a, node_c)\n",
    "pipeline.add_edge(node_b, node_c)\n",
    "# pipeline.add_edge(node_b, node_d)"
   ]
  },
  {
   "cell_type": "code",
   "execution_count": 8,
   "id": "behind-dairy",
   "metadata": {},
   "outputs": [],
   "source": [
    "X = np.array([0, 1, 2, 3])\n",
    "X = np.reshape(X, (4, 1))"
   ]
  },
  {
   "cell_type": "code",
   "execution_count": 9,
   "id": "uniform-coordinator",
   "metadata": {},
   "outputs": [],
   "source": [
    "from codeflare.pipelines.Datamodel import Xy\n",
    "from codeflare.pipelines.Datamodel import XYRef"
   ]
  },
  {
   "cell_type": "code",
   "execution_count": 10,
   "id": "romance-sender",
   "metadata": {},
   "outputs": [],
   "source": [
    "# Xy = XY(X, None)\n",
    "# Xy_ref = ray.put(Xy)\n",
    "\n",
    "X_ref = ray.put(X)\n",
    "y_ref = ray.put(None)\n",
    "\n",
    "Xy_ref = XYRef(X_ref, y_ref)\n",
    "Xy_ref_ptr = ray.put(Xy_ref)\n",
    "Xy_ref_ptrs = [Xy_ref_ptr]"
   ]
  },
  {
   "cell_type": "code",
   "execution_count": 11,
   "id": "handy-offset",
   "metadata": {},
   "outputs": [],
   "source": [
    "import codeflare.pipelines.Runtime as rt"
   ]
  },
  {
   "cell_type": "code",
   "execution_count": 12,
   "id": "copyrighted-procurement",
   "metadata": {},
   "outputs": [],
   "source": [
    "in_args={node_a: Xy_ref_ptrs, node_b: Xy_ref_ptrs}"
   ]
  },
  {
   "cell_type": "code",
   "execution_count": 13,
   "id": "julian-clerk",
   "metadata": {},
   "outputs": [],
   "source": [
    "from codeflare.pipelines.Runtime import ExecutionType"
   ]
  },
  {
   "cell_type": "code",
   "execution_count": 14,
   "id": "specialized-health",
   "metadata": {
    "scrolled": true
   },
   "outputs": [],
   "source": [
    "out_args = rt.execute_pipeline(pipeline, ExecutionType.FIT, in_args)"
   ]
  },
  {
   "cell_type": "code",
   "execution_count": 15,
   "id": "binding-praise",
   "metadata": {},
   "outputs": [
    {
     "name": "stdout",
     "output_type": "stream",
     "text": [
      "c\n"
     ]
    }
   ],
   "source": [
    "for key in out_args.keys():\n",
    "    print(str(key))"
   ]
  },
  {
   "cell_type": "code",
   "execution_count": 16,
   "id": "e963bdd4",
   "metadata": {},
   "outputs": [],
   "source": [
    "out_Xyrefs = ray.get(out_args[node_c])"
   ]
  },
  {
   "cell_type": "code",
   "execution_count": 18,
   "id": "living-destiny",
   "metadata": {},
   "outputs": [
    {
     "name": "stdout",
     "output_type": "stream",
     "text": [
      "[[0.        ]\n",
      " [0.33333333]\n",
      " [0.66666667]\n",
      " [1.        ]\n",
      " [0.        ]\n",
      " [0.33333333]\n",
      " [0.66666667]\n",
      " [1.        ]]\n",
      "<__main__.FeatureUnion object at 0x7ff9789c1350>\n"
     ]
    },
    {
     "name": "stderr",
     "output_type": "stream",
     "text": [
      "\u001b[2m\u001b[36m(pid=gcs_server)\u001b[0m F0519 16:14:23.850416 85373 158993920 gcs_node_manager.cc:528]  Check failed: _s.ok() Bad status: Disconnected: Redis is disconnected\n",
      "\u001b[2m\u001b[36m(pid=gcs_server)\u001b[0m *** Check failure stack trace: ***\n",
      "\u001b[2m\u001b[36m(pid=gcs_server)\u001b[0m     @        0x1024b8b72  google::LogMessage::~LogMessage()\n",
      "\u001b[2m\u001b[36m(pid=gcs_server)\u001b[0m     @        0x1024707d5  ray::RayLog::~RayLog()\n",
      "\u001b[2m\u001b[36m(pid=gcs_server)\u001b[0m     @        0x101ff2371  ray::gcs::GcsNodeManager::SendBatchedHeartbeat()\n",
      "\u001b[2m\u001b[36m(pid=gcs_server)\u001b[0m     @        0x102009d33  boost::asio::detail::binder1<>::operator()()\n",
      "\u001b[2m\u001b[36m(pid=gcs_server)\u001b[0m     @        0x102009971  boost::asio::detail::wait_handler<>::do_complete()\n",
      "\u001b[2m\u001b[36m(pid=gcs_server)\u001b[0m     @        0x102603a73  boost::asio::detail::scheduler::do_run_one()\n",
      "\u001b[2m\u001b[36m(pid=gcs_server)\u001b[0m     @        0x1025f78b2  boost::asio::detail::scheduler::run()\n",
      "\u001b[2m\u001b[36m(pid=gcs_server)\u001b[0m     @        0x1025f774b  boost::asio::io_context::run()\n",
      "\u001b[2m\u001b[36m(pid=gcs_server)\u001b[0m     @        0x101fa9b26  main\n",
      "\u001b[2m\u001b[36m(pid=gcs_server)\u001b[0m     @     0x7fff204d1f3d  start\n",
      "\u001b[2m\u001b[36m(pid=gcs_server)\u001b[0m     @                0x8  (unknown)\n",
      "\u001b[2m\u001b[33m(pid=raylet)\u001b[0m F0519 16:14:24.966475 85379 325799424 service_based_gcs_client.cc:207] Couldn't reconnect to GCS server. The last attempted GCS server address was 9.163.5.112:54969\n",
      "\u001b[2m\u001b[33m(pid=raylet)\u001b[0m *** Check failure stack trace: ***\n",
      "\u001b[2m\u001b[33m(pid=raylet)\u001b[0m     @        0x10cf7dad2  google::LogMessage::~LogMessage()\n",
      "\u001b[2m\u001b[33m(pid=raylet)\u001b[0m     @        0x10cf0d3a5  ray::RayLog::~RayLog()\n",
      "\u001b[2m\u001b[33m(pid=raylet)\u001b[0m     @        0x10cbfd75a  ray::gcs::ServiceBasedGcsClient::ReconnectGcsServer()\n",
      "\u001b[2m\u001b[33m(pid=raylet)\u001b[0m     @        0x10cbb5d8f  _ZZN3ray3rpc12GcsRpcClient15ReportHeartbeatERKNS0_22ReportHeartbeatRequestERKNSt3__18functionIFvRKNS_6StatusERKNS0_20ReportHeartbeatReplyEEEEENKUlS9_SC_E_clES9_SC_\n",
      "\u001b[2m\u001b[33m(pid=raylet)\u001b[0m     @        0x10cbb570b  ray::rpc::ClientCallImpl<>::OnReplyReceived()\n",
      "\u001b[2m\u001b[33m(pid=raylet)\u001b[0m     @        0x10cbfeb75  _ZN5boost4asio19asio_handler_invokeIZN3ray3rpc17ClientCallManager29PollEventsFromCompletionQueueEiEUlvE_EEvRT_z\n",
      "\u001b[2m\u001b[33m(pid=raylet)\u001b[0m     @        0x10cbfeb24  _ZN5boost4asio6detail18completion_handlerIZN3ray3rpc17ClientCallManager29PollEventsFromCompletionQueueEiEUlvE_E11do_completeEPvPNS1_19scheduler_operationERKNS_6system10error_codeEm\n",
      "\u001b[2m\u001b[33m(pid=raylet)\u001b[0m     @        0x10d38dc13  boost::asio::detail::scheduler::do_run_one()\n",
      "\u001b[2m\u001b[33m(pid=raylet)\u001b[0m     @        0x10d381a52  boost::asio::detail::scheduler::run()\n",
      "\u001b[2m\u001b[33m(pid=raylet)\u001b[0m     @        0x10d3818eb  boost::asio::io_context::run()\n",
      "\u001b[2m\u001b[33m(pid=raylet)\u001b[0m     @        0x10ca0a3a5  main\n",
      "\u001b[2m\u001b[33m(pid=raylet)\u001b[0m     @     0x7fff204d1f3d  start\n",
      "\u001b[2m\u001b[36m(pid=85390)\u001b[0m E0519 16:14:25.396766 85390 86384640 core_worker.cc:708] Raylet failed. Shutting down.\n",
      "\u001b[2m\u001b[36m(pid=85392)\u001b[0m E0519 16:14:25.383960 85392 265629696 core_worker.cc:708] Raylet failed. Shutting down.\n",
      "\u001b[2m\u001b[36m(pid=85396)\u001b[0m E0519 16:14:25.429785 85396 13082624 core_worker.cc:708] Raylet failed. Shutting down.\n",
      "\u001b[2m\u001b[36m(pid=85393)\u001b[0m E0519 16:14:25.405773 85393 35811328 core_worker.cc:708] Raylet failed. Shutting down.\n",
      "\u001b[2m\u001b[36m(pid=85395)\u001b[0m E0519 16:14:25.429762 85395 159137792 core_worker.cc:708] Raylet failed. Shutting down.\n",
      "\u001b[2m\u001b[36m(pid=85391)\u001b[0m E0519 16:14:25.400374 85391 232615936 core_worker.cc:708] Raylet failed. Shutting down.\n",
      "\u001b[2m\u001b[36m(pid=85403)\u001b[0m E0519 16:14:25.475519 85403 209113088 core_worker.cc:708] Raylet failed. Shutting down.\n",
      "\u001b[2m\u001b[36m(pid=85394)\u001b[0m E0519 16:14:25.446421 85394 59469824 core_worker.cc:708] Raylet failed. Shutting down.\n",
      "\u001b[2m\u001b[36m(pid=85398)\u001b[0m E0519 16:14:25.475898 85398 197668864 core_worker.cc:708] Raylet failed. Shutting down.\n",
      "\u001b[2m\u001b[36m(pid=85405)\u001b[0m E0519 16:14:25.483583 85405 143446016 core_worker.cc:708] Raylet failed. Shutting down.\n",
      "\u001b[2m\u001b[36m(pid=85401)\u001b[0m E0519 16:14:25.464028 85401 128004096 core_worker.cc:708] Raylet failed. Shutting down.\n",
      "\u001b[2m\u001b[36m(pid=85397)\u001b[0m E0519 16:14:25.468384 85397 213512192 core_worker.cc:708] Raylet failed. Shutting down.\n",
      "\u001b[2m\u001b[36m(pid=85404)\u001b[0m E0519 16:14:25.525806 85404 37969920 core_worker.cc:708] Raylet failed. Shutting down.\n",
      "\u001b[2m\u001b[36m(pid=85399)\u001b[0m E0519 16:14:25.532640 85399 81039360 core_worker.cc:708] Raylet failed. Shutting down.\n",
      "\u001b[2m\u001b[36m(pid=85402)\u001b[0m E0519 16:14:25.561540 85402 187555840 core_worker.cc:708] Raylet failed. Shutting down.\n",
      "\u001b[2m\u001b[36m(pid=85400)\u001b[0m E0519 16:14:25.561533 85400 88494080 core_worker.cc:708] Raylet failed. Shutting down.\n"
     ]
    }
   ],
   "source": [
    "for out_xyref in out_Xyrefs:\n",
    "    x = ray.get(out_xyref.get_Xref())\n",
    "    and_func = ray.get(out_xyref.get_noderef()).get_and_func()\n",
    "    print(x)\n",
    "    print(and_func)"
   ]
  },
  {
   "cell_type": "code",
   "execution_count": null,
   "id": "b0188d6f",
   "metadata": {},
   "outputs": [],
   "source": []
  }
 ],
 "metadata": {
  "kernelspec": {
   "display_name": "Python 3",
   "language": "python",
   "name": "python3"
  },
  "language_info": {
   "codemirror_mode": {
    "name": "ipython",
    "version": 3
   },
   "file_extension": ".py",
   "mimetype": "text/x-python",
   "name": "python",
   "nbconvert_exporter": "python",
   "pygments_lexer": "ipython3",
   "version": "3.7.9"
  }
 },
 "nbformat": 4,
 "nbformat_minor": 5
}
