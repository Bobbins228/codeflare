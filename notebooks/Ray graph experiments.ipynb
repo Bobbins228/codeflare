{
 "cells": [
  {
   "cell_type": "code",
   "execution_count": 1,
   "id": "israeli-batch",
   "metadata": {},
   "outputs": [],
   "source": [
    "import ray"
   ]
  },
  {
   "cell_type": "code",
   "execution_count": 2,
   "id": "loose-projector",
   "metadata": {},
   "outputs": [],
   "source": [
    "ray.shutdown()"
   ]
  },
  {
   "cell_type": "code",
   "execution_count": 3,
   "id": "renewable-western",
   "metadata": {},
   "outputs": [
    {
     "name": "stderr",
     "output_type": "stream",
     "text": [
      "2021-05-20 15:42:30,573\tINFO services.py:1092 -- View the Ray dashboard at \u001b[1m\u001b[32mhttp://127.0.0.1:8265\u001b[39m\u001b[22m\n"
     ]
    },
    {
     "data": {
      "text/plain": [
       "{'node_ip_address': '9.163.5.112',\n",
       " 'raylet_ip_address': '9.163.5.112',\n",
       " 'redis_address': '9.163.5.112:6379',\n",
       " 'object_store_address': '/tmp/ray/session_2021-05-20_15-42-30_073511_9171/sockets/plasma_store',\n",
       " 'raylet_socket_name': '/tmp/ray/session_2021-05-20_15-42-30_073511_9171/sockets/raylet',\n",
       " 'webui_url': '127.0.0.1:8265',\n",
       " 'session_dir': '/tmp/ray/session_2021-05-20_15-42-30_073511_9171',\n",
       " 'metrics_export_port': 57655,\n",
       " 'node_id': '5b0baef7810bb8cfb535edc0fe374c36b8588748'}"
      ]
     },
     "execution_count": 3,
     "metadata": {},
     "output_type": "execute_result"
    }
   ],
   "source": [
    "ray.init()"
   ]
  },
  {
   "cell_type": "code",
   "execution_count": 4,
   "id": "scheduled-miami",
   "metadata": {},
   "outputs": [],
   "source": [
    "%config IPCompleter.use_jedi = False"
   ]
  },
  {
   "cell_type": "code",
   "execution_count": 5,
   "id": "leading-sheriff",
   "metadata": {},
   "outputs": [],
   "source": [
    "import numpy as np\n",
    "from sklearn.preprocessing import FunctionTransformer\n",
    "from sklearn.preprocessing import MinMaxScaler\n",
    "\n",
    "transformer = FunctionTransformer(np.log1p)\n",
    "minmax_scaler = MinMaxScaler()"
   ]
  },
  {
   "cell_type": "code",
   "execution_count": 6,
   "id": "9adf2a27",
   "metadata": {},
   "outputs": [],
   "source": [
    "import codeflare.pipelines.Datamodel as dm\n",
    "\n",
    "class FeatureUnion(dm.AndTransform):\n",
    "    def __init__(self):\n",
    "        pass\n",
    "    \n",
    "    def transform(self, xy_list):\n",
    "        X_list = []\n",
    "        y_list = []\n",
    "        \n",
    "        for xy in xy_list:\n",
    "            X_list.append(xy.get_x())\n",
    "        X_concat = np.concatenate(X_list, axis=0)\n",
    "        \n",
    "        return Xy(X_concat, None)"
   ]
  },
  {
   "cell_type": "code",
   "execution_count": 7,
   "id": "olive-usage",
   "metadata": {},
   "outputs": [],
   "source": [
    "pipeline = dm.Pipeline()\n",
    "\n",
    "node_a = dm.EstimatorNode('a', minmax_scaler)\n",
    "node_b = dm.EstimatorNode('b', minmax_scaler)\n",
    "node_c = dm.AndNode('c', FeatureUnion())\n",
    "# node_d = dm.OrNode('d', transformer)\n",
    "\n",
    "pipeline.add_edge(node_a, node_c)\n",
    "pipeline.add_edge(node_b, node_c)\n",
    "# pipeline.add_edge(node_b, node_d)"
   ]
  },
  {
   "cell_type": "code",
   "execution_count": 8,
   "id": "behind-dairy",
   "metadata": {},
   "outputs": [],
   "source": [
    "X = np.array([0, 1, 2, 3])\n",
    "X = np.reshape(X, (4, 1))"
   ]
  },
  {
   "cell_type": "code",
   "execution_count": 9,
   "id": "uniform-coordinator",
   "metadata": {},
   "outputs": [],
   "source": [
    "from codeflare.pipelines.Datamodel import Xy\n",
    "from codeflare.pipelines.Datamodel import XYRef"
   ]
  },
  {
   "cell_type": "code",
   "execution_count": 10,
   "id": "romance-sender",
   "metadata": {},
   "outputs": [],
   "source": [
    "# Xy = XY(X, None)\n",
    "# Xy_ref = ray.put(Xy)\n",
    "\n",
    "X_ref = ray.put(X)\n",
    "y_ref = ray.put(None)\n",
    "\n",
    "Xy_ref = XYRef(X_ref, y_ref)\n",
    "Xy_ref_ptr = ray.put(Xy_ref)\n",
    "Xy_ref_ptrs = [Xy_ref_ptr]"
   ]
  },
  {
   "cell_type": "code",
   "execution_count": 11,
   "id": "handy-offset",
   "metadata": {},
   "outputs": [],
   "source": [
    "import codeflare.pipelines.Runtime as rt"
   ]
  },
  {
   "cell_type": "code",
   "execution_count": 12,
   "id": "copyrighted-procurement",
   "metadata": {},
   "outputs": [],
   "source": [
    "in_args={node_a: Xy_ref_ptrs, node_b: Xy_ref_ptrs}"
   ]
  },
  {
   "cell_type": "code",
   "execution_count": 13,
   "id": "julian-clerk",
   "metadata": {},
   "outputs": [],
   "source": [
    "from codeflare.pipelines.Runtime import ExecutionType"
   ]
  },
  {
   "cell_type": "code",
   "execution_count": 14,
   "id": "specialized-health",
   "metadata": {
    "scrolled": true
   },
   "outputs": [],
   "source": [
    "out_args = rt.execute_pipeline(pipeline, ExecutionType.FIT, in_args)"
   ]
  },
  {
   "cell_type": "code",
   "execution_count": 15,
   "id": "binding-praise",
   "metadata": {},
   "outputs": [
    {
     "name": "stdout",
     "output_type": "stream",
     "text": [
      "c\n"
     ]
    }
   ],
   "source": [
    "for key in out_args.keys():\n",
    "    print(str(key))"
   ]
  },
  {
   "cell_type": "code",
   "execution_count": 16,
   "id": "e963bdd4",
   "metadata": {},
   "outputs": [],
   "source": [
    "out_Xyrefs = ray.get(out_args[node_c])"
   ]
  },
  {
   "cell_type": "code",
   "execution_count": 17,
   "id": "living-destiny",
   "metadata": {},
   "outputs": [
    {
     "name": "stdout",
     "output_type": "stream",
     "text": [
      "[[0.        ]\n",
      " [0.33333333]\n",
      " [0.66666667]\n",
      " [1.        ]\n",
      " [0.        ]\n",
      " [0.33333333]\n",
      " [0.66666667]\n",
      " [1.        ]]\n",
      "FeatureUnion()\n"
     ]
    }
   ],
   "source": [
    "for out_xyref in out_Xyrefs:\n",
    "    x = ray.get(out_xyref.get_Xref())\n",
    "    and_func = ray.get(out_xyref.get_currnoderef()).get_and_func()\n",
    "    print(x)\n",
    "    print(and_func)"
   ]
  },
  {
   "cell_type": "code",
   "execution_count": null,
   "id": "b0188d6f",
   "metadata": {},
   "outputs": [],
   "source": []
  }
 ],
 "metadata": {
  "kernelspec": {
   "display_name": "Python 3",
   "language": "python",
   "name": "python3"
  },
  "language_info": {
   "codemirror_mode": {
    "name": "ipython",
    "version": 3
   },
   "file_extension": ".py",
   "mimetype": "text/x-python",
   "name": "python",
   "nbconvert_exporter": "python",
   "pygments_lexer": "ipython3",
   "version": "3.7.9"
  }
 },
 "nbformat": 4,
 "nbformat_minor": 5
}
