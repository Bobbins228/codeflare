{
 "cells": [
  {
   "cell_type": "code",
   "execution_count": 1,
   "id": "israeli-batch",
   "metadata": {},
   "outputs": [],
   "source": [
    "import ray"
   ]
  },
  {
   "cell_type": "code",
   "execution_count": 2,
   "id": "loose-projector",
   "metadata": {},
   "outputs": [],
   "source": [
    "ray.shutdown()"
   ]
  },
  {
   "cell_type": "code",
   "execution_count": 2,
   "id": "renewable-western",
   "metadata": {},
   "outputs": [
    {
     "name": "stderr",
     "output_type": "stream",
     "text": [
      "2021-05-04 16:17:33,432\tINFO services.py:1092 -- View the Ray dashboard at \u001b[1m\u001b[32mhttp://127.0.0.1:8266\u001b[39m\u001b[22m\n"
     ]
    },
    {
     "data": {
      "text/plain": [
       "{'node_ip_address': '9.160.24.40',\n",
       " 'raylet_ip_address': '9.160.24.40',\n",
       " 'redis_address': '9.160.24.40:29280',\n",
       " 'object_store_address': '/tmp/ray/session_2021-05-04_16-17-32_831080_96327/sockets/plasma_store',\n",
       " 'raylet_socket_name': '/tmp/ray/session_2021-05-04_16-17-32_831080_96327/sockets/raylet',\n",
       " 'webui_url': '127.0.0.1:8266',\n",
       " 'session_dir': '/tmp/ray/session_2021-05-04_16-17-32_831080_96327',\n",
       " 'metrics_export_port': 58844,\n",
       " 'node_id': 'c8ed8ccd822336e1bcfc1d946811186c9b954ceb'}"
      ]
     },
     "execution_count": 2,
     "metadata": {},
     "output_type": "execute_result"
    }
   ],
   "source": [
    "ray.init()"
   ]
  },
  {
   "cell_type": "code",
   "execution_count": 3,
   "id": "scheduled-miami",
   "metadata": {},
   "outputs": [],
   "source": [
    "%config IPCompleter.use_jedi = False"
   ]
  },
  {
   "cell_type": "code",
   "execution_count": 4,
   "id": "leading-sheriff",
   "metadata": {},
   "outputs": [],
   "source": [
    "import numpy as np\n",
    "from sklearn.preprocessing import FunctionTransformer\n",
    "\n",
    "transformer = FunctionTransformer(np.log1p)"
   ]
  },
  {
   "cell_type": "code",
   "execution_count": 6,
   "id": "olive-usage",
   "metadata": {},
   "outputs": [],
   "source": [
    "import com.ibm.research.ray.graph.Datamodel as dm\n",
    "\n",
    "pipeline = dm.Pipeline()\n",
    "\n",
    "node_a = dm.OrNode('a', transformer)\n",
    "node_b = dm.OrNode('b', transformer)\n",
    "node_c = dm.OrNode('c', transformer)\n",
    "node_d = dm.OrNode('d', transformer)\n",
    "\n",
    "pipeline.add_edge(node_a, node_b)\n",
    "pipeline.add_edge(node_b, node_c)\n",
    "# pipeline.add_edge(node_b, node_d)"
   ]
  },
  {
   "cell_type": "code",
   "execution_count": 7,
   "id": "behind-dairy",
   "metadata": {},
   "outputs": [],
   "source": [
    "X = np.array([0, 1, 2, 3])"
   ]
  },
  {
   "cell_type": "code",
   "execution_count": 8,
   "id": "amended-gravity",
   "metadata": {},
   "outputs": [
    {
     "data": {
      "text/plain": [
       "array([0.        , 0.42303586, 0.55461836, 0.62580029])"
      ]
     },
     "execution_count": 8,
     "metadata": {},
     "output_type": "execute_result"
    }
   ],
   "source": [
    "transformer.transform(transformer.transform(transformer.transform(X)))"
   ]
  },
  {
   "cell_type": "code",
   "execution_count": 9,
   "id": "uniform-coordinator",
   "metadata": {},
   "outputs": [],
   "source": [
    "from com.ibm.research.ray.graph.Datamodel import XY\n",
    "from com.ibm.research.ray.graph.Datamodel import XYRef"
   ]
  },
  {
   "cell_type": "code",
   "execution_count": 10,
   "id": "romance-sender",
   "metadata": {},
   "outputs": [],
   "source": [
    "# Xy = XY(X, None)\n",
    "# Xy_ref = ray.put(Xy)\n",
    "\n",
    "X_ref = ray.put(X)\n",
    "y_ref = ray.put(None)\n",
    "\n",
    "Xy_ref = XYRef(X_ref, y_ref)\n",
    "Xy_ref_list = [Xy_ref]\n",
    "Xy_ref_ptr = ray.put(Xy_ref_list)"
   ]
  },
  {
   "cell_type": "code",
   "execution_count": 11,
   "id": "handy-offset",
   "metadata": {},
   "outputs": [],
   "source": [
    "import com.ibm.research.ray.graph.Runtime as rt"
   ]
  },
  {
   "cell_type": "code",
   "execution_count": 12,
   "id": "cordless-difference",
   "metadata": {},
   "outputs": [],
   "source": [
    "t = [Xy_ref_ptr]"
   ]
  },
  {
   "cell_type": "code",
   "execution_count": 13,
   "id": "copyrighted-procurement",
   "metadata": {},
   "outputs": [],
   "source": [
    "in_args={node_a: t}"
   ]
  },
  {
   "cell_type": "code",
   "execution_count": 14,
   "id": "julian-clerk",
   "metadata": {},
   "outputs": [],
   "source": [
    "from com.ibm.research.ray.graph.Runtime import ExecutionType"
   ]
  },
  {
   "cell_type": "code",
   "execution_count": 15,
   "id": "specialized-health",
   "metadata": {
    "scrolled": true
   },
   "outputs": [],
   "source": [
    "out_args = rt.execute_pipeline(pipeline, ExecutionType.TRAIN, in_args)"
   ]
  },
  {
   "cell_type": "code",
   "execution_count": 16,
   "id": "binding-praise",
   "metadata": {},
   "outputs": [
    {
     "name": "stdout",
     "output_type": "stream",
     "text": [
      "c\n"
     ]
    }
   ],
   "source": [
    "for key in out_args.keys():\n",
    "    print(str(key))"
   ]
  },
  {
   "cell_type": "code",
   "execution_count": 17,
   "id": "living-destiny",
   "metadata": {},
   "outputs": [
    {
     "data": {
      "text/plain": [
       "[[<com.ibm.research.ray.graph.Datamodel.XYRef at 0x7f9898928190>]]"
      ]
     },
     "execution_count": 17,
     "metadata": {},
     "output_type": "execute_result"
    }
   ],
   "source": [
    "ray.get(out_args[node_c])"
   ]
  },
  {
   "cell_type": "code",
   "execution_count": null,
   "id": "b0188d6f",
   "metadata": {},
   "outputs": [],
   "source": []
  }
 ],
 "metadata": {
  "kernelspec": {
   "display_name": "Python 3",
   "language": "python",
   "name": "python3"
  },
  "language_info": {
   "codemirror_mode": {
    "name": "ipython",
    "version": 3
   },
   "file_extension": ".py",
   "mimetype": "text/x-python",
   "name": "python",
   "nbconvert_exporter": "python",
   "pygments_lexer": "ipython3",
   "version": "3.7.9"
  }
 },
 "nbformat": 4,
 "nbformat_minor": 5
}
