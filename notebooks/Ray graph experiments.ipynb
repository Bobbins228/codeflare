{
 "cells": [
  {
   "cell_type": "code",
   "execution_count": 1,
   "id": "israeli-batch",
   "metadata": {},
   "outputs": [],
   "source": [
    "import ray"
   ]
  },
  {
   "cell_type": "code",
   "execution_count": 2,
   "id": "loose-projector",
   "metadata": {},
   "outputs": [],
   "source": [
    "ray.shutdown()"
   ]
  },
  {
   "cell_type": "code",
   "execution_count": 3,
   "id": "renewable-western",
   "metadata": {},
   "outputs": [
    {
     "name": "stderr",
     "output_type": "stream",
     "text": [
      "2021-06-04 10:55:36,533\tINFO services.py:1269 -- View the Ray dashboard at \u001b[1m\u001b[32mhttp://127.0.0.1:8265\u001b[39m\u001b[22m\n"
     ]
    },
    {
     "data": {
      "text/plain": [
       "{'node_ip_address': '192.168.1.37',\n",
       " 'raylet_ip_address': '192.168.1.37',\n",
       " 'redis_address': '192.168.1.37:6379',\n",
       " 'object_store_address': '/tmp/ray/session_2021-06-04_10-55-35_103935_66596/sockets/plasma_store',\n",
       " 'raylet_socket_name': '/tmp/ray/session_2021-06-04_10-55-35_103935_66596/sockets/raylet',\n",
       " 'webui_url': '127.0.0.1:8265',\n",
       " 'session_dir': '/tmp/ray/session_2021-06-04_10-55-35_103935_66596',\n",
       " 'metrics_export_port': 62153,\n",
       " 'node_id': 'b55f2340f68d5439d9728c6605bd1ae90b31d893b63c92dea02643fd'}"
      ]
     },
     "execution_count": 3,
     "metadata": {},
     "output_type": "execute_result"
    }
   ],
   "source": [
    "ray.init()"
   ]
  },
  {
   "cell_type": "code",
   "execution_count": 4,
   "id": "scheduled-miami",
   "metadata": {},
   "outputs": [],
   "source": [
    "%config IPCompleter.use_jedi = False"
   ]
  },
  {
   "cell_type": "code",
   "execution_count": 5,
   "id": "leading-sheriff",
   "metadata": {},
   "outputs": [],
   "source": [
    "import numpy as np\n",
    "from sklearn.preprocessing import FunctionTransformer\n",
    "from sklearn.preprocessing import MinMaxScaler\n",
    "\n",
    "transformer = FunctionTransformer(np.log1p)\n",
    "minmax_scaler = MinMaxScaler()"
   ]
  },
  {
   "cell_type": "code",
   "execution_count": 7,
   "id": "9adf2a27",
   "metadata": {},
   "outputs": [],
   "source": [
    "import codeflare.pipelines.Datamodel as dm\n",
    "\n",
    "class FeatureUnion(dm.AndEstimator):\n",
    "    def __init__(self):\n",
    "        pass\n",
    "    \n",
    "    def fit_transform(self, xy_list: list):\n",
    "        return self.transform(xy_list)\n",
    "\n",
    "    def get_estimator_type(self):\n",
    "        return 'transform'\n",
    "    \n",
    "    def transform(self, xy_list):\n",
    "        X_list = []\n",
    "        y_list = []\n",
    "        \n",
    "        for xy in xy_list:\n",
    "            X_list.append(xy.get_x())\n",
    "        X_concat = np.concatenate(X_list, axis=0)\n",
    "        \n",
    "        return dm.Xy(X_concat, None)"
   ]
  },
  {
   "cell_type": "code",
   "execution_count": 8,
   "id": "olive-usage",
   "metadata": {},
   "outputs": [],
   "source": [
    "pipeline = dm.Pipeline()\n",
    "\n",
    "node_a = dm.EstimatorNode('a', minmax_scaler)\n",
    "node_b = dm.EstimatorNode('b', minmax_scaler)\n",
    "node_c = dm.AndNode('c', FeatureUnion())\n",
    "# node_d = dm.OrNode('d', transformer)\n",
    "\n",
    "pipeline.add_edge(node_a, node_c)\n",
    "pipeline.add_edge(node_b, node_c)\n",
    "# pipeline.add_edge(node_b, node_d)"
   ]
  },
  {
   "cell_type": "code",
   "execution_count": 9,
   "id": "behind-dairy",
   "metadata": {},
   "outputs": [],
   "source": [
    "X = np.array([0, 1, 2, 3])\n",
    "X = np.reshape(X, (4, 1))"
   ]
  },
  {
   "cell_type": "code",
   "execution_count": 10,
   "id": "uniform-coordinator",
   "metadata": {},
   "outputs": [],
   "source": [
    "import codeflare.pipelines.Datamodel as dm"
   ]
  },
  {
   "cell_type": "code",
   "execution_count": 11,
   "id": "46de1312",
   "metadata": {},
   "outputs": [],
   "source": [
    "pipeline_input = dm.PipelineInput()\n",
    "xy = dm.Xy(X, None)\n",
    "pipeline_input.add_xy_arg(node_a, xy)\n",
    "pipeline_input.add_xy_arg(node_b, xy)"
   ]
  },
  {
   "cell_type": "code",
   "execution_count": 12,
   "id": "handy-offset",
   "metadata": {},
   "outputs": [],
   "source": [
    "import codeflare.pipelines.Runtime as rt"
   ]
  },
  {
   "cell_type": "code",
   "execution_count": 13,
   "id": "julian-clerk",
   "metadata": {},
   "outputs": [],
   "source": [
    "from codeflare.pipelines.Runtime import ExecutionType"
   ]
  },
  {
   "cell_type": "code",
   "execution_count": 14,
   "id": "specialized-health",
   "metadata": {
    "scrolled": true
   },
   "outputs": [],
   "source": [
    "pipeline_output = rt.execute_pipeline(pipeline, ExecutionType.FIT, pipeline_input)"
   ]
  },
  {
   "cell_type": "code",
   "execution_count": 15,
   "id": "e963bdd4",
   "metadata": {},
   "outputs": [],
   "source": [
    "out_Xyrefs = pipeline_output.get_xyrefs(node_c)"
   ]
  },
  {
   "cell_type": "code",
   "execution_count": 17,
   "id": "living-destiny",
   "metadata": {},
   "outputs": [
    {
     "name": "stdout",
     "output_type": "stream",
     "text": [
      "[[0.        ]\n",
      " [0.33333333]\n",
      " [0.66666667]\n",
      " [1.        ]\n",
      " [0.        ]\n",
      " [0.33333333]\n",
      " [0.66666667]\n",
      " [1.        ]]\n",
      "FeatureUnion()\n"
     ]
    }
   ],
   "source": [
    "for out_xyref in out_Xyrefs:\n",
    "    x = ray.get(out_xyref.get_Xref())\n",
    "    and_func = ray.get(out_xyref.get_curr_node_state_ref()).get_estimator()\n",
    "    print(x)\n",
    "    print(and_func)"
   ]
  },
  {
   "cell_type": "code",
   "execution_count": null,
   "id": "b0188d6f",
   "metadata": {},
   "outputs": [],
   "source": []
  }
 ],
 "metadata": {
  "kernelspec": {
   "display_name": "Python 3",
   "language": "python",
   "name": "python3"
  },
  "language_info": {
   "codemirror_mode": {
    "name": "ipython",
    "version": 3
   },
   "file_extension": ".py",
   "mimetype": "text/x-python",
   "name": "python",
   "nbconvert_exporter": "python",
   "pygments_lexer": "ipython3",
   "version": "3.7.9"
  }
 },
 "nbformat": 4,
 "nbformat_minor": 5
}
