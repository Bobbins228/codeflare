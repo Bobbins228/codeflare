{
 "cells": [
  {
   "cell_type": "code",
   "execution_count": 1,
   "id": "b182b659",
   "metadata": {},
   "outputs": [],
   "source": [
    "%config IPCompleter.use_jedi = False"
   ]
  },
  {
   "cell_type": "code",
   "execution_count": 2,
   "id": "da96167d",
   "metadata": {},
   "outputs": [],
   "source": [
    "import numpy as np"
   ]
  },
  {
   "cell_type": "code",
   "execution_count": 17,
   "id": "a559b7bb",
   "metadata": {},
   "outputs": [],
   "source": [
    "param_grid = {\n",
    "    'pca__n_components': [5, 15, 30, 45, 64],\n",
    "    'pca__m_components': [6, 10],\n",
    "    'logistic__C': np.logspace(-4, 4, 4),\n",
    "}"
   ]
  },
  {
   "cell_type": "code",
   "execution_count": 18,
   "id": "4e1ff38c",
   "metadata": {},
   "outputs": [],
   "source": [
    "import codeflare.pipelines.Datamodel as dm"
   ]
  },
  {
   "cell_type": "code",
   "execution_count": 19,
   "id": "4691ea01",
   "metadata": {},
   "outputs": [],
   "source": [
    "pipeline_params = dm.PipelineParam.from_param_grid(param_grid)"
   ]
  },
  {
   "cell_type": "code",
   "execution_count": 20,
   "id": "1da83403",
   "metadata": {},
   "outputs": [
    {
     "data": {
      "text/plain": [
       "{'pca__0': {'m_components': 6, 'n_components': 5},\n",
       " 'pca__1': {'m_components': 6, 'n_components': 15},\n",
       " 'pca__2': {'m_components': 6, 'n_components': 30},\n",
       " 'pca__3': {'m_components': 6, 'n_components': 45},\n",
       " 'pca__4': {'m_components': 6, 'n_components': 64},\n",
       " 'pca__5': {'m_components': 10, 'n_components': 5},\n",
       " 'pca__6': {'m_components': 10, 'n_components': 15},\n",
       " 'pca__7': {'m_components': 10, 'n_components': 30},\n",
       " 'pca__8': {'m_components': 10, 'n_components': 45},\n",
       " 'pca__9': {'m_components': 10, 'n_components': 64},\n",
       " 'logistic__0': {'C': 0.0001},\n",
       " 'logistic__1': {'C': 0.046415888336127774},\n",
       " 'logistic__2': {'C': 21.54434690031882},\n",
       " 'logistic__3': {'C': 10000.0}}"
      ]
     },
     "execution_count": 20,
     "metadata": {},
     "output_type": "execute_result"
    }
   ],
   "source": [
    "pipeline_params.__node_name_param_map__"
   ]
  },
  {
   "cell_type": "code",
   "execution_count": 8,
   "id": "ec28e356",
   "metadata": {},
   "outputs": [],
   "source": [
    "from sklearn.model_selection import ParameterGrid"
   ]
  },
  {
   "cell_type": "code",
   "execution_count": 9,
   "id": "fca4ae99",
   "metadata": {},
   "outputs": [],
   "source": [
    "pg = ParameterGrid(param_grid)"
   ]
  },
  {
   "cell_type": "code",
   "execution_count": null,
   "id": "d24579ee",
   "metadata": {},
   "outputs": [],
   "source": []
  },
  {
   "cell_type": "code",
   "execution_count": 10,
   "id": "acc69456",
   "metadata": {},
   "outputs": [
    {
     "name": "stdout",
     "output_type": "stream",
     "text": [
      "{'logistic__C': 0.0001, 'pca__m_components': 6, 'pca__n__components': 5}\n",
      "{'logistic__C': 0.0001, 'pca__m_components': 6, 'pca__n__components': 15}\n",
      "{'logistic__C': 0.0001, 'pca__m_components': 6, 'pca__n__components': 30}\n",
      "{'logistic__C': 0.0001, 'pca__m_components': 6, 'pca__n__components': 45}\n",
      "{'logistic__C': 0.0001, 'pca__m_components': 6, 'pca__n__components': 64}\n",
      "{'logistic__C': 0.0001, 'pca__m_components': 10, 'pca__n__components': 5}\n",
      "{'logistic__C': 0.0001, 'pca__m_components': 10, 'pca__n__components': 15}\n",
      "{'logistic__C': 0.0001, 'pca__m_components': 10, 'pca__n__components': 30}\n",
      "{'logistic__C': 0.0001, 'pca__m_components': 10, 'pca__n__components': 45}\n",
      "{'logistic__C': 0.0001, 'pca__m_components': 10, 'pca__n__components': 64}\n",
      "{'logistic__C': 0.046415888336127774, 'pca__m_components': 6, 'pca__n__components': 5}\n",
      "{'logistic__C': 0.046415888336127774, 'pca__m_components': 6, 'pca__n__components': 15}\n",
      "{'logistic__C': 0.046415888336127774, 'pca__m_components': 6, 'pca__n__components': 30}\n",
      "{'logistic__C': 0.046415888336127774, 'pca__m_components': 6, 'pca__n__components': 45}\n",
      "{'logistic__C': 0.046415888336127774, 'pca__m_components': 6, 'pca__n__components': 64}\n",
      "{'logistic__C': 0.046415888336127774, 'pca__m_components': 10, 'pca__n__components': 5}\n",
      "{'logistic__C': 0.046415888336127774, 'pca__m_components': 10, 'pca__n__components': 15}\n",
      "{'logistic__C': 0.046415888336127774, 'pca__m_components': 10, 'pca__n__components': 30}\n",
      "{'logistic__C': 0.046415888336127774, 'pca__m_components': 10, 'pca__n__components': 45}\n",
      "{'logistic__C': 0.046415888336127774, 'pca__m_components': 10, 'pca__n__components': 64}\n",
      "{'logistic__C': 21.54434690031882, 'pca__m_components': 6, 'pca__n__components': 5}\n",
      "{'logistic__C': 21.54434690031882, 'pca__m_components': 6, 'pca__n__components': 15}\n",
      "{'logistic__C': 21.54434690031882, 'pca__m_components': 6, 'pca__n__components': 30}\n",
      "{'logistic__C': 21.54434690031882, 'pca__m_components': 6, 'pca__n__components': 45}\n",
      "{'logistic__C': 21.54434690031882, 'pca__m_components': 6, 'pca__n__components': 64}\n",
      "{'logistic__C': 21.54434690031882, 'pca__m_components': 10, 'pca__n__components': 5}\n",
      "{'logistic__C': 21.54434690031882, 'pca__m_components': 10, 'pca__n__components': 15}\n",
      "{'logistic__C': 21.54434690031882, 'pca__m_components': 10, 'pca__n__components': 30}\n",
      "{'logistic__C': 21.54434690031882, 'pca__m_components': 10, 'pca__n__components': 45}\n",
      "{'logistic__C': 21.54434690031882, 'pca__m_components': 10, 'pca__n__components': 64}\n",
      "{'logistic__C': 10000.0, 'pca__m_components': 6, 'pca__n__components': 5}\n",
      "{'logistic__C': 10000.0, 'pca__m_components': 6, 'pca__n__components': 15}\n",
      "{'logistic__C': 10000.0, 'pca__m_components': 6, 'pca__n__components': 30}\n",
      "{'logistic__C': 10000.0, 'pca__m_components': 6, 'pca__n__components': 45}\n",
      "{'logistic__C': 10000.0, 'pca__m_components': 6, 'pca__n__components': 64}\n",
      "{'logistic__C': 10000.0, 'pca__m_components': 10, 'pca__n__components': 5}\n",
      "{'logistic__C': 10000.0, 'pca__m_components': 10, 'pca__n__components': 15}\n",
      "{'logistic__C': 10000.0, 'pca__m_components': 10, 'pca__n__components': 30}\n",
      "{'logistic__C': 10000.0, 'pca__m_components': 10, 'pca__n__components': 45}\n",
      "{'logistic__C': 10000.0, 'pca__m_components': 10, 'pca__n__components': 64}\n"
     ]
    }
   ],
   "source": [
    "for x in pg:\n",
    "    print(str(x))"
   ]
  },
  {
   "cell_type": "code",
   "execution_count": null,
   "id": "88978916",
   "metadata": {},
   "outputs": [],
   "source": []
  },
  {
   "cell_type": "code",
   "execution_count": 2,
   "id": "ec81574b",
   "metadata": {},
   "outputs": [
    {
     "data": {
      "text/plain": [
       "Gender                object\n",
       "Married               object\n",
       "Dependents            object\n",
       "Education             object\n",
       "Self_Employed         object\n",
       "ApplicantIncome        int64\n",
       "CoapplicantIncome    float64\n",
       "LoanAmount           float64\n",
       "Loan_Amount_Term     float64\n",
       "Credit_History       float64\n",
       "Property_Area         object\n",
       "Loan_Status           object\n",
       "dtype: object"
      ]
     },
     "execution_count": 2,
     "metadata": {},
     "output_type": "execute_result"
    }
   ],
   "source": [
    "import pandas as pd\n",
    "train = pd.read_csv('../resources/data/train_ctrUa4K.csv')\n",
    "test = pd.read_csv('../resources/data/test_lAUu6dG.csv')\n",
    "train = train.drop('Loan_ID', axis=1)\n",
    "train.dtypes"
   ]
  },
  {
   "cell_type": "code",
   "execution_count": 3,
   "id": "1c43ab45",
   "metadata": {},
   "outputs": [],
   "source": [
    "X = train.drop('Loan_Status', axis=1)\n",
    "y = train['Loan_Status']\n",
    "from sklearn.model_selection import train_test_split\n",
    "X_train, X_test, y_train, y_test = train_test_split(X, y, test_size=0.2)"
   ]
  },
  {
   "cell_type": "code",
   "execution_count": 4,
   "id": "9f5e7c5f",
   "metadata": {},
   "outputs": [],
   "source": [
    "from sklearn.pipeline import Pipeline\n",
    "from sklearn.impute import SimpleImputer\n",
    "from sklearn.preprocessing import StandardScaler, OneHotEncoder\n",
    "\n",
    "imputer = SimpleImputer(strategy='median')\n",
    "scaler = StandardScaler()\n",
    "\n",
    "numeric_transformer = Pipeline(steps=[\n",
    "    ('imputer', imputer),\n",
    "    ('scaler', scaler)])\n",
    "\n",
    "cat_imputer = SimpleImputer(strategy='constant', fill_value='missing')\n",
    "cat_onehot = OneHotEncoder(handle_unknown='ignore')\n",
    "\n",
    "categorical_transformer = Pipeline(steps=[\n",
    "    ('imputer', cat_imputer),\n",
    "    ('onehot', cat_onehot)])"
   ]
  },
  {
   "cell_type": "code",
   "execution_count": 5,
   "id": "f3385535",
   "metadata": {},
   "outputs": [],
   "source": [
    "numeric_features = train.select_dtypes(include=['int64', 'float64']).columns\n",
    "categorical_features = train.select_dtypes(include=['object']).drop(['Loan_Status'], axis=1).columns\n",
    "from sklearn.compose import ColumnTransformer\n",
    "preprocessor = ColumnTransformer(\n",
    "    transformers=[\n",
    "        ('num', numeric_transformer, numeric_features),\n",
    "        ('cat', categorical_transformer, categorical_features)])"
   ]
  },
  {
   "cell_type": "code",
   "execution_count": 10,
   "id": "277a9b49",
   "metadata": {},
   "outputs": [],
   "source": [
    "from sklearn.ensemble import RandomForestClassifier, GradientBoostingClassifier\n",
    "\n",
    "classifiers = [\n",
    "        RandomForestClassifier(),\n",
    "        GradientBoostingClassifier()\n",
    "    ]"
   ]
  },
  {
   "cell_type": "code",
   "execution_count": 6,
   "id": "3be71125",
   "metadata": {},
   "outputs": [
    {
     "name": "stderr",
     "output_type": "stream",
     "text": [
      "2021-06-01 13:39:30,834\tINFO services.py:1269 -- View the Ray dashboard at \u001b[1m\u001b[32mhttp://127.0.0.1:8265\u001b[39m\u001b[22m\n"
     ]
    },
    {
     "data": {
      "text/plain": [
       "{'node_ip_address': '192.168.1.37',\n",
       " 'raylet_ip_address': '192.168.1.37',\n",
       " 'redis_address': '192.168.1.37:6379',\n",
       " 'object_store_address': '/tmp/ray/session_2021-06-01_13-39-29_310261_97693/sockets/plasma_store',\n",
       " 'raylet_socket_name': '/tmp/ray/session_2021-06-01_13-39-29_310261_97693/sockets/raylet',\n",
       " 'webui_url': '127.0.0.1:8265',\n",
       " 'session_dir': '/tmp/ray/session_2021-06-01_13-39-29_310261_97693',\n",
       " 'metrics_export_port': 58917,\n",
       " 'node_id': '6cc44d621d9e02fc79a4932617ee8638fcb2d987c7eec90785d75a91'}"
      ]
     },
     "execution_count": 6,
     "metadata": {},
     "output_type": "execute_result"
    }
   ],
   "source": [
    "import ray\n",
    "ray.shutdown()\n",
    "ray.init()"
   ]
  },
  {
   "cell_type": "code",
   "execution_count": 7,
   "id": "dc3d3784",
   "metadata": {},
   "outputs": [],
   "source": [
    "import codeflare.pipelines.Datamodel as dm"
   ]
  },
  {
   "cell_type": "code",
   "execution_count": 11,
   "id": "121abdb2",
   "metadata": {},
   "outputs": [],
   "source": [
    "pipeline = dm.Pipeline()\n",
    "node_pre = dm.EstimatorNode('preprocess', preprocessor)\n",
    "node_rf = dm.EstimatorNode('random_forest', classifiers[0])\n",
    "node_gb = dm.EstimatorNode('gradient_boost', classifiers[1])\n",
    "\n",
    "pipeline.add_edge(node_pre, node_rf)\n",
    "pipeline.add_edge(node_pre, node_gb)"
   ]
  },
  {
   "cell_type": "code",
   "execution_count": 12,
   "id": "08a17977",
   "metadata": {},
   "outputs": [],
   "source": [
    "import codeflare.pipelines.Runtime as rt\n",
    "from codeflare.pipelines.Runtime import ExecutionType"
   ]
  },
  {
   "cell_type": "code",
   "execution_count": 14,
   "id": "9da81cf8",
   "metadata": {},
   "outputs": [],
   "source": [
    "pipeline_input = dm.PipelineInput()\n",
    "xy = dm.Xy(X_train, y_train)\n",
    "pipeline_input.add_xy_arg(node_pre, xy)"
   ]
  },
  {
   "cell_type": "code",
   "execution_count": 15,
   "id": "c906b226",
   "metadata": {},
   "outputs": [],
   "source": [
    "from sklearn.model_selection import KFold, StratifiedKFold"
   ]
  },
  {
   "cell_type": "code",
   "execution_count": 16,
   "id": "b73b7ef6",
   "metadata": {},
   "outputs": [],
   "source": [
    "kf = KFold(2)"
   ]
  },
  {
   "cell_type": "code",
   "execution_count": null,
   "id": "9737e238",
   "metadata": {},
   "outputs": [],
   "source": []
  },
  {
   "cell_type": "code",
   "execution_count": null,
   "id": "b207b362",
   "metadata": {},
   "outputs": [],
   "source": []
  },
  {
   "cell_type": "code",
   "execution_count": 17,
   "id": "116e9cfd",
   "metadata": {},
   "outputs": [
    {
     "ename": "RayTaskError(KeyError)",
     "evalue": "\u001b[36mray::split()\u001b[39m (pid=97764, ip=192.168.1.37)\n  File \"python/ray/_raylet.pyx\", line 505, in ray._raylet.execute_task\n  File \"/Users/rganti/PycharmProjects/ray-pipeline/venv/lib/python3.7/site-packages/codeflare_pipelines-1.0.0-py3.7.egg/codeflare/pipelines/Runtime.py\", line 222, in split\n  File \"/Users/rganti/PycharmProjects/ray-pipeline/venv/lib/python3.7/site-packages/pandas/core/frame.py\", line 3030, in __getitem__\n    indexer = self.loc._get_listlike_indexer(key, axis=1, raise_missing=True)[1]\n  File \"/Users/rganti/PycharmProjects/ray-pipeline/venv/lib/python3.7/site-packages/pandas/core/indexing.py\", line 1266, in _get_listlike_indexer\n    self._validate_read_indexer(keyarr, indexer, axis, raise_missing=raise_missing)\n  File \"/Users/rganti/PycharmProjects/ray-pipeline/venv/lib/python3.7/site-packages/pandas/core/indexing.py\", line 1308, in _validate_read_indexer\n    raise KeyError(f\"None of [{key}] are in the [{axis_name}]\")\nKeyError: \"None of [Int64Index([246, 247, 248, 249, 250, 251, 252, 253, 254, 255,\\n            ...\\n            481, 482, 483, 484, 485, 486, 487, 488, 489, 490],\\n           dtype='int64', length=245)] are in the [columns]\"",
     "output_type": "error",
     "traceback": [
      "\u001b[0;31m---------------------------------------------------------------------------\u001b[0m",
      "\u001b[0;31mRayTaskError(KeyError)\u001b[0m                    Traceback (most recent call last)",
      "\u001b[0;32m<ipython-input-17-f2b02dd154d1>\u001b[0m in \u001b[0;36m<module>\u001b[0;34m\u001b[0m\n\u001b[0;32m----> 1\u001b[0;31m \u001b[0mresult\u001b[0m \u001b[0;34m=\u001b[0m \u001b[0mrt\u001b[0m\u001b[0;34m.\u001b[0m\u001b[0mgrid_search\u001b[0m\u001b[0;34m(\u001b[0m\u001b[0mkf\u001b[0m\u001b[0;34m,\u001b[0m \u001b[0mpipeline\u001b[0m\u001b[0;34m,\u001b[0m \u001b[0mpipeline_input\u001b[0m\u001b[0;34m)\u001b[0m\u001b[0;34m\u001b[0m\u001b[0;34m\u001b[0m\u001b[0m\n\u001b[0m",
      "\u001b[0;32m~/PycharmProjects/ray-pipeline/venv/lib/python3.7/site-packages/codeflare_pipelines-1.0.0-py3.7.egg/codeflare/pipelines/Runtime.py\u001b[0m in \u001b[0;36mgrid_search\u001b[0;34m(cross_validator, pipeline, pipeline_input)\u001b[0m\n\u001b[1;32m    314\u001b[0m \u001b[0;34m\u001b[0m\u001b[0m\n\u001b[1;32m    315\u001b[0m         \u001b[0mxy_train_refs_ptr\u001b[0m\u001b[0;34m,\u001b[0m \u001b[0mxy_test_refs_ptr\u001b[0m \u001b[0;34m=\u001b[0m \u001b[0msplit\u001b[0m\u001b[0;34m.\u001b[0m\u001b[0mremote\u001b[0m\u001b[0;34m(\u001b[0m\u001b[0mcross_validator\u001b[0m\u001b[0;34m,\u001b[0m \u001b[0mxyref_ptr\u001b[0m\u001b[0;34m)\u001b[0m\u001b[0;34m\u001b[0m\u001b[0;34m\u001b[0m\u001b[0m\n\u001b[0;32m--> 316\u001b[0;31m         \u001b[0mxy_train_refs\u001b[0m \u001b[0;34m=\u001b[0m \u001b[0mray\u001b[0m\u001b[0;34m.\u001b[0m\u001b[0mget\u001b[0m\u001b[0;34m(\u001b[0m\u001b[0mxy_train_refs_ptr\u001b[0m\u001b[0;34m)\u001b[0m\u001b[0;34m\u001b[0m\u001b[0;34m\u001b[0m\u001b[0m\n\u001b[0m\u001b[1;32m    317\u001b[0m         \u001b[0mxy_test_refs\u001b[0m \u001b[0;34m=\u001b[0m \u001b[0mray\u001b[0m\u001b[0;34m.\u001b[0m\u001b[0mget\u001b[0m\u001b[0;34m(\u001b[0m\u001b[0mxy_test_refs_ptr\u001b[0m\u001b[0;34m)\u001b[0m\u001b[0;34m\u001b[0m\u001b[0;34m\u001b[0m\u001b[0m\n\u001b[1;32m    318\u001b[0m \u001b[0;34m\u001b[0m\u001b[0m\n",
      "\u001b[0;32m~/PycharmProjects/ray-pipeline/venv/lib/python3.7/site-packages/ray/_private/client_mode_hook.py\u001b[0m in \u001b[0;36mwrapper\u001b[0;34m(*args, **kwargs)\u001b[0m\n\u001b[1;32m     45\u001b[0m         \u001b[0;32mif\u001b[0m \u001b[0mclient_mode_should_convert\u001b[0m\u001b[0;34m(\u001b[0m\u001b[0;34m)\u001b[0m\u001b[0;34m:\u001b[0m\u001b[0;34m\u001b[0m\u001b[0;34m\u001b[0m\u001b[0m\n\u001b[1;32m     46\u001b[0m             \u001b[0;32mreturn\u001b[0m \u001b[0mgetattr\u001b[0m\u001b[0;34m(\u001b[0m\u001b[0mray\u001b[0m\u001b[0;34m,\u001b[0m \u001b[0mfunc\u001b[0m\u001b[0;34m.\u001b[0m\u001b[0m__name__\u001b[0m\u001b[0;34m)\u001b[0m\u001b[0;34m(\u001b[0m\u001b[0;34m*\u001b[0m\u001b[0margs\u001b[0m\u001b[0;34m,\u001b[0m \u001b[0;34m**\u001b[0m\u001b[0mkwargs\u001b[0m\u001b[0;34m)\u001b[0m\u001b[0;34m\u001b[0m\u001b[0;34m\u001b[0m\u001b[0m\n\u001b[0;32m---> 47\u001b[0;31m         \u001b[0;32mreturn\u001b[0m \u001b[0mfunc\u001b[0m\u001b[0;34m(\u001b[0m\u001b[0;34m*\u001b[0m\u001b[0margs\u001b[0m\u001b[0;34m,\u001b[0m \u001b[0;34m**\u001b[0m\u001b[0mkwargs\u001b[0m\u001b[0;34m)\u001b[0m\u001b[0;34m\u001b[0m\u001b[0;34m\u001b[0m\u001b[0m\n\u001b[0m\u001b[1;32m     48\u001b[0m \u001b[0;34m\u001b[0m\u001b[0m\n\u001b[1;32m     49\u001b[0m     \u001b[0;32mreturn\u001b[0m \u001b[0mwrapper\u001b[0m\u001b[0;34m\u001b[0m\u001b[0;34m\u001b[0m\u001b[0m\n",
      "\u001b[0;32m~/PycharmProjects/ray-pipeline/venv/lib/python3.7/site-packages/ray/worker.py\u001b[0m in \u001b[0;36mget\u001b[0;34m(object_refs, timeout)\u001b[0m\n\u001b[1;32m   1479\u001b[0m                     \u001b[0mworker\u001b[0m\u001b[0;34m.\u001b[0m\u001b[0mcore_worker\u001b[0m\u001b[0;34m.\u001b[0m\u001b[0mdump_object_store_memory_usage\u001b[0m\u001b[0;34m(\u001b[0m\u001b[0;34m)\u001b[0m\u001b[0;34m\u001b[0m\u001b[0;34m\u001b[0m\u001b[0m\n\u001b[1;32m   1480\u001b[0m                 \u001b[0;32mif\u001b[0m \u001b[0misinstance\u001b[0m\u001b[0;34m(\u001b[0m\u001b[0mvalue\u001b[0m\u001b[0;34m,\u001b[0m \u001b[0mRayTaskError\u001b[0m\u001b[0;34m)\u001b[0m\u001b[0;34m:\u001b[0m\u001b[0;34m\u001b[0m\u001b[0;34m\u001b[0m\u001b[0m\n\u001b[0;32m-> 1481\u001b[0;31m                     \u001b[0;32mraise\u001b[0m \u001b[0mvalue\u001b[0m\u001b[0;34m.\u001b[0m\u001b[0mas_instanceof_cause\u001b[0m\u001b[0;34m(\u001b[0m\u001b[0;34m)\u001b[0m\u001b[0;34m\u001b[0m\u001b[0;34m\u001b[0m\u001b[0m\n\u001b[0m\u001b[1;32m   1482\u001b[0m                 \u001b[0;32melse\u001b[0m\u001b[0;34m:\u001b[0m\u001b[0;34m\u001b[0m\u001b[0;34m\u001b[0m\u001b[0m\n\u001b[1;32m   1483\u001b[0m                     \u001b[0;32mraise\u001b[0m \u001b[0mvalue\u001b[0m\u001b[0;34m\u001b[0m\u001b[0;34m\u001b[0m\u001b[0m\n",
      "\u001b[0;31mRayTaskError(KeyError)\u001b[0m: \u001b[36mray::split()\u001b[39m (pid=97764, ip=192.168.1.37)\n  File \"python/ray/_raylet.pyx\", line 505, in ray._raylet.execute_task\n  File \"/Users/rganti/PycharmProjects/ray-pipeline/venv/lib/python3.7/site-packages/codeflare_pipelines-1.0.0-py3.7.egg/codeflare/pipelines/Runtime.py\", line 222, in split\n  File \"/Users/rganti/PycharmProjects/ray-pipeline/venv/lib/python3.7/site-packages/pandas/core/frame.py\", line 3030, in __getitem__\n    indexer = self.loc._get_listlike_indexer(key, axis=1, raise_missing=True)[1]\n  File \"/Users/rganti/PycharmProjects/ray-pipeline/venv/lib/python3.7/site-packages/pandas/core/indexing.py\", line 1266, in _get_listlike_indexer\n    self._validate_read_indexer(keyarr, indexer, axis, raise_missing=raise_missing)\n  File \"/Users/rganti/PycharmProjects/ray-pipeline/venv/lib/python3.7/site-packages/pandas/core/indexing.py\", line 1308, in _validate_read_indexer\n    raise KeyError(f\"None of [{key}] are in the [{axis_name}]\")\nKeyError: \"None of [Int64Index([246, 247, 248, 249, 250, 251, 252, 253, 254, 255,\\n            ...\\n            481, 482, 483, 484, 485, 486, 487, 488, 489, 490],\\n           dtype='int64', length=245)] are in the [columns]\""
     ]
    }
   ],
   "source": [
    "result = rt.grid_search(kf, pipeline, pipeline_input)"
   ]
  },
  {
   "cell_type": "code",
   "execution_count": null,
   "id": "fead187d",
   "metadata": {},
   "outputs": [],
   "source": []
  }
 ],
 "metadata": {
  "kernelspec": {
   "display_name": "Python 3",
   "language": "python",
   "name": "python3"
  },
  "language_info": {
   "codemirror_mode": {
    "name": "ipython",
    "version": 3
   },
   "file_extension": ".py",
   "mimetype": "text/x-python",
   "name": "python",
   "nbconvert_exporter": "python",
   "pygments_lexer": "ipython3",
   "version": "3.7.9"
  }
 },
 "nbformat": 4,
 "nbformat_minor": 5
}
