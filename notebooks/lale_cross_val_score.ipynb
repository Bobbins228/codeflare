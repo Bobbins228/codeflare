{
 "cells": [
  {
   "cell_type": "code",
   "execution_count": 1,
   "metadata": {},
   "outputs": [],
   "source": [
    "from lale.datasets.openml import fetch"
   ]
  },
  {
   "cell_type": "code",
   "execution_count": 2,
   "metadata": {},
   "outputs": [],
   "source": [
    "(X_train, y_train), (X_test, y_test) = fetch(\"jungle_chess_2pcs_raw_endgame_complete\", \"classification\")"
   ]
  },
  {
   "cell_type": "code",
   "execution_count": 3,
   "metadata": {},
   "outputs": [],
   "source": [
    "import ray\n",
    "ray.shutdown()"
   ]
  },
  {
   "cell_type": "code",
   "execution_count": 4,
   "metadata": {},
   "outputs": [],
   "source": [
    "# from lale.helpers import cross_val_score"
   ]
  },
  {
   "cell_type": "code",
   "execution_count": 5,
   "metadata": {},
   "outputs": [],
   "source": [
    "# from lale.lib.sklearn import PCA, Nystroem, SelectKBest, RandomForestClassifier\n",
    "# from lale.lib.lale import ConcatFeatures\n",
    "\n",
    "# pipeline = (PCA() & Nystroem() & SelectKBest(k=3)) >> ConcatFeatures() >> RandomForestClassifier(n_estimators=200)\n",
    "# # pipeline.visualize()"
   ]
  },
  {
   "cell_type": "code",
   "execution_count": 6,
   "metadata": {},
   "outputs": [],
   "source": [
    "# sk_pipeline = pipeline.export_to_sklearn_pipeline()"
   ]
  },
  {
   "cell_type": "code",
   "execution_count": 7,
   "metadata": {},
   "outputs": [],
   "source": [
    "# sk_pipeline"
   ]
  },
  {
   "cell_type": "code",
   "execution_count": 8,
   "metadata": {},
   "outputs": [
    {
     "name": "stderr",
     "output_type": "stream",
     "text": [
      "2021-05-11 11:55:04,828\tINFO services.py:1092 -- View the Ray dashboard at \u001b[1m\u001b[32mhttp://127.0.0.1:8265\u001b[39m\u001b[22m\n"
     ]
    },
    {
     "data": {
      "text/plain": [
       "{'node_ip_address': '9.160.6.207',\n",
       " 'raylet_ip_address': '9.160.6.207',\n",
       " 'redis_address': '9.160.6.207:6379',\n",
       " 'object_store_address': '/tmp/ray/session_2021-05-11_11-55-04_333842_74749/sockets/plasma_store',\n",
       " 'raylet_socket_name': '/tmp/ray/session_2021-05-11_11-55-04_333842_74749/sockets/raylet',\n",
       " 'webui_url': '127.0.0.1:8265',\n",
       " 'session_dir': '/tmp/ray/session_2021-05-11_11-55-04_333842_74749',\n",
       " 'metrics_export_port': 52557,\n",
       " 'node_id': 'bb40cc6772d56a613e2e4afb22c4d196ce239735'}"
      ]
     },
     "execution_count": 8,
     "metadata": {},
     "output_type": "execute_result"
    }
   ],
   "source": [
    "import ray\n",
    "ray.init()"
   ]
  },
  {
   "cell_type": "code",
   "execution_count": 9,
   "metadata": {},
   "outputs": [],
   "source": [
    "from com.ibm.research.ray.graph.Datamodel import Xy\n",
    "from com.ibm.research.ray.graph.Datamodel import XYRef\n",
    "import com.ibm.research.ray.graph.Datamodel as dm"
   ]
  },
  {
   "cell_type": "code",
   "execution_count": 21,
   "metadata": {},
   "outputs": [],
   "source": [
    "from sklearn.model_selection import KFold, StratifiedKFold"
   ]
  },
  {
   "cell_type": "code",
   "execution_count": 24,
   "metadata": {},
   "outputs": [],
   "source": [
    "kf = KFold(n_splits=10)"
   ]
  },
  {
   "cell_type": "code",
   "execution_count": 25,
   "metadata": {},
   "outputs": [],
   "source": [
    "XY_ref_list = []\n",
    "for train_index, test_index in kf.split(X_train):\n",
    "    Xk_train, Xk_test = X_train[train_index], X_train[test_index]\n",
    "    yk_train, yk_test = y_train[train_index], y_train[test_index]\n",
    "    \n",
    "    X_ref = ray.put(Xk_train)\n",
    "    y_ref = ray.put(yk_train)\n",
    "    Xy_ref = XYRef(X_ref, y_ref)\n",
    "    XY_ref_list.append(Xy_ref)\n",
    "\n",
    "XY_ref_ptr = ray.put(XY_ref_list)"
   ]
  },
  {
   "cell_type": "code",
   "execution_count": 26,
   "metadata": {},
   "outputs": [],
   "source": [
    "pipeline = dm.Pipeline()"
   ]
  },
  {
   "cell_type": "code",
   "execution_count": 27,
   "metadata": {},
   "outputs": [],
   "source": [
    "from sklearn.pipeline import FeatureUnion\n",
    "from sklearn.ensemble import RandomForestClassifier\n",
    "from sklearn.decomposition import PCA\n",
    "from sklearn.kernel_approximation import Nystroem\n",
    "from sklearn.feature_selection import SelectKBest"
   ]
  },
  {
   "cell_type": "code",
   "execution_count": 28,
   "metadata": {},
   "outputs": [],
   "source": [
    "feature_union = FeatureUnion(transformer_list=[('PCA', PCA()),\n",
    "                                                ('Nystroem',\n",
    "                                                 Nystroem()),\n",
    "                                                ('SelectKBest',\n",
    "                                                 SelectKBest(k=3))])"
   ]
  },
  {
   "cell_type": "code",
   "execution_count": 29,
   "metadata": {},
   "outputs": [],
   "source": [
    "random_forest = RandomForestClassifier(n_estimators=200)"
   ]
  },
  {
   "cell_type": "code",
   "execution_count": 30,
   "metadata": {},
   "outputs": [],
   "source": [
    "node_fu = dm.OrNode('feature_union', feature_union)\n",
    "node_rf = dm.OrNode('randomforest', random_forest)"
   ]
  },
  {
   "cell_type": "code",
   "execution_count": 31,
   "metadata": {},
   "outputs": [],
   "source": [
    "pipeline.add_edge(node_fu, node_rf)"
   ]
  },
  {
   "cell_type": "code",
   "execution_count": 32,
   "metadata": {},
   "outputs": [],
   "source": [
    "import com.ibm.research.ray.graph.Runtime as rt\n",
    "from com.ibm.research.ray.graph.Runtime import ExecutionType"
   ]
  },
  {
   "cell_type": "code",
   "execution_count": 33,
   "metadata": {},
   "outputs": [
    {
     "name": "stdout",
     "output_type": "stream",
     "text": [
      "Time taken: 75.59795594215393\n"
     ]
    }
   ],
   "source": [
    "import time\n",
    "start = time.time()\n",
    "\n",
    "\n",
    "in_args={node_fu: [XY_ref_ptr]}\n",
    "\n",
    "out_args = rt.execute_pipeline(pipeline, ExecutionType.SCORE, in_args)\n",
    "\n",
    "node_rf_out_args = ray.get(out_args[node_rf])\n",
    "end = time.time()\n",
    "print ('Time taken: ' + str(end - start))"
   ]
  },
  {
   "cell_type": "code",
   "execution_count": 39,
   "metadata": {},
   "outputs": [
    {
     "name": "stdout",
     "output_type": "stream",
     "text": [
      "1.0\n",
      "1.0\n",
      "1.0\n",
      "1.0\n",
      "1.0\n",
      "1.0\n",
      "1.0\n",
      "1.0\n",
      "1.0\n",
      "1.0\n"
     ]
    },
    {
     "name": "stderr",
     "output_type": "stream",
     "text": [
      "\u001b[2m\u001b[33m(pid=raylet)\u001b[0m F0511 16:57:35.978291 74765 304709120 service_based_gcs_client.cc:207] Couldn't reconnect to GCS server. The last attempted GCS server address was 9.160.6.207:50161\n",
      "\u001b[2m\u001b[33m(pid=raylet)\u001b[0m *** Check failure stack trace: ***\n",
      "\u001b[2m\u001b[33m(pid=raylet)\u001b[0m     @        0x10afa7ad2  google::LogMessage::~LogMessage()\n",
      "\u001b[2m\u001b[33m(pid=raylet)\u001b[0m     @        0x10af373a5  ray::RayLog::~RayLog()\n",
      "\u001b[2m\u001b[33m(pid=raylet)\u001b[0m     @        0x10ac2775a  ray::gcs::ServiceBasedGcsClient::ReconnectGcsServer()\n",
      "\u001b[2m\u001b[33m(pid=raylet)\u001b[0m     @        0x10abdfd8f  _ZZN3ray3rpc12GcsRpcClient15ReportHeartbeatERKNS0_22ReportHeartbeatRequestERKNSt3__18functionIFvRKNS_6StatusERKNS0_20ReportHeartbeatReplyEEEEENKUlS9_SC_E_clES9_SC_\n",
      "\u001b[2m\u001b[33m(pid=raylet)\u001b[0m     @        0x10abdf70b  ray::rpc::ClientCallImpl<>::OnReplyReceived()\n",
      "\u001b[2m\u001b[33m(pid=raylet)\u001b[0m     @        0x10ac28b75  _ZN5boost4asio19asio_handler_invokeIZN3ray3rpc17ClientCallManager29PollEventsFromCompletionQueueEiEUlvE_EEvRT_z\n",
      "\u001b[2m\u001b[33m(pid=raylet)\u001b[0m     @        0x10ac28b24  _ZN5boost4asio6detail18completion_handlerIZN3ray3rpc17ClientCallManager29PollEventsFromCompletionQueueEiEUlvE_E11do_completeEPvPNS1_19scheduler_operationERKNS_6system10error_codeEm\n",
      "\u001b[2m\u001b[33m(pid=raylet)\u001b[0m     @        0x10b3b7c13  boost::asio::detail::scheduler::do_run_one()\n",
      "\u001b[2m\u001b[33m(pid=raylet)\u001b[0m     @        0x10b3aba52  boost::asio::detail::scheduler::run()\n",
      "\u001b[2m\u001b[33m(pid=raylet)\u001b[0m     @        0x10b3ab8eb  boost::asio::io_context::run()\n",
      "\u001b[2m\u001b[33m(pid=raylet)\u001b[0m     @        0x10aa343a5  main\n",
      "\u001b[2m\u001b[33m(pid=raylet)\u001b[0m     @     0x7fff20387621  start\n",
      "\u001b[2m\u001b[36m(pid=74774)\u001b[0m E0511 16:57:36.031733 74774 61603840 core_worker.cc:708] Raylet failed. Shutting down.\n",
      "\u001b[2m\u001b[36m(pid=74775)\u001b[0m E0511 16:57:36.027377 74775 236822528 core_worker.cc:708] Raylet failed. Shutting down.\n",
      "\u001b[2m\u001b[36m(pid=74787)\u001b[0m E0511 16:57:36.066838 74787 40992768 core_worker.cc:708] Raylet failed. Shutting down.\n",
      "\u001b[2m\u001b[36m(pid=74777)\u001b[0m E0511 16:57:36.065919 74777 74579968 core_worker.cc:708] Raylet failed. Shutting down.\n",
      "\u001b[2m\u001b[36m(pid=74785)\u001b[0m E0511 16:57:36.055061 74785 195473408 core_worker.cc:708] Raylet failed. Shutting down.\n",
      "\u001b[2m\u001b[36m(pid=74776)\u001b[0m E0511 16:57:36.055038 74776 190590976 core_worker.cc:708] Raylet failed. Shutting down.\n",
      "\u001b[2m\u001b[36m(pid=74778)\u001b[0m E0511 16:57:36.082597 74778 65142784 core_worker.cc:708] Raylet failed. Shutting down.\n",
      "\u001b[2m\u001b[36m(pid=74784)\u001b[0m E0511 16:57:36.090732 74784 126128128 core_worker.cc:708] Raylet failed. Shutting down.\n",
      "\u001b[2m\u001b[36m(pid=74779)\u001b[0m E0511 16:57:36.078280 74779 61677568 core_worker.cc:708] Raylet failed. Shutting down.\n",
      "\u001b[2m\u001b[36m(pid=74789)\u001b[0m E0511 16:57:36.130810 74789 150446080 core_worker.cc:708] Raylet failed. Shutting down.\n",
      "\u001b[2m\u001b[36m(pid=74782)\u001b[0m E0511 16:57:36.111927 74782 21635072 core_worker.cc:708] Raylet failed. Shutting down.\n",
      "\u001b[2m\u001b[36m(pid=74788)\u001b[0m E0511 16:57:36.100910 74788 195870720 core_worker.cc:708] Raylet failed. Shutting down.\n",
      "\u001b[2m\u001b[36m(pid=74780)\u001b[0m E0511 16:57:36.095577 74780 229449728 core_worker.cc:708] Raylet failed. Shutting down.\n",
      "\u001b[2m\u001b[36m(pid=74783)\u001b[0m E0511 16:57:36.100910 74783 266190848 core_worker.cc:708] Raylet failed. Shutting down.\n",
      "\u001b[2m\u001b[36m(pid=74781)\u001b[0m E0511 16:57:36.095579 74781 167682048 core_worker.cc:708] Raylet failed. Shutting down.\n",
      "\u001b[2m\u001b[36m(pid=74786)\u001b[0m E0511 16:57:36.105005 74786 47857664 core_worker.cc:708] Raylet failed. Shutting down.\n"
     ]
    }
   ],
   "source": [
    "for out_xy_ref in node_rf_out_args:\n",
    "    score = ray.get(out_xy_ref[0].get_Xref())\n",
    "    print(score)"
   ]
  },
  {
   "cell_type": "code",
   "execution_count": 7,
   "metadata": {},
   "outputs": [],
   "source": [
    "from sklearn.model_selection import StratifiedKFold"
   ]
  },
  {
   "cell_type": "code",
   "execution_count": 8,
   "metadata": {},
   "outputs": [],
   "source": [
    "cv = StratifiedKFold(5)"
   ]
  },
  {
   "cell_type": "code",
   "execution_count": 10,
   "metadata": {},
   "outputs": [
    {
     "data": {
      "text/plain": [
       "<generator object _BaseKFold.split at 0x7fe220bfdb50>"
      ]
     },
     "execution_count": 10,
     "metadata": {},
     "output_type": "execute_result"
    }
   ],
   "source": [
    "cv.split(X_train, y_train)"
   ]
  },
  {
   "cell_type": "code",
   "execution_count": null,
   "metadata": {},
   "outputs": [],
   "source": []
  },
  {
   "cell_type": "code",
   "execution_count": null,
   "metadata": {},
   "outputs": [],
   "source": []
  },
  {
   "cell_type": "code",
   "execution_count": 6,
   "metadata": {},
   "outputs": [
    {
     "name": "stdout",
     "output_type": "stream",
     "text": [
      "CPU times: user 7min 45s, sys: 12.4 s, total: 7min 57s\n",
      "Wall time: 7min 30s\n"
     ]
    },
    {
     "data": {
      "text/plain": [
       "[0.8168498168498168,\n",
       " 0.8215118215118216,\n",
       " 0.8138528138528138,\n",
       " 0.8185148185148186,\n",
       " 0.8178488178488178,\n",
       " 0.8215118215118216,\n",
       " 0.8121878121878122,\n",
       " 0.8191808191808192,\n",
       " 0.8021319120586275,\n",
       " 0.8074616922051966]"
      ]
     },
     "execution_count": 6,
     "metadata": {},
     "output_type": "execute_result"
    }
   ],
   "source": [
    "%%time \n",
    "cross_val_score(pipeline, X_train, y_train, cv=10)"
   ]
  },
  {
   "cell_type": "code",
   "execution_count": null,
   "metadata": {},
   "outputs": [],
   "source": []
  }
 ],
 "metadata": {
  "kernelspec": {
   "display_name": "Python 3",
   "language": "python",
   "name": "python3"
  },
  "language_info": {
   "codemirror_mode": {
    "name": "ipython",
    "version": 3
   },
   "file_extension": ".py",
   "mimetype": "text/x-python",
   "name": "python",
   "nbconvert_exporter": "python",
   "pygments_lexer": "ipython3",
   "version": "3.7.9"
  }
 },
 "nbformat": 4,
 "nbformat_minor": 4
}
