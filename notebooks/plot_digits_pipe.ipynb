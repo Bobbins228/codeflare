{
 "cells": [
  {
   "cell_type": "markdown",
   "metadata": {},
   "source": [
    "# Express sklearn pipeline as codeflare pipeline\n",
    "\n",
    "Reference: https://scikit-learn.org/stable/auto_examples/compose/plot_digits_pipe.html#sphx-glr-auto-examples-compose-plot-digits-pipe-py\n"
   ]
  },
  {
   "cell_type": "code",
   "execution_count": 1,
   "metadata": {},
   "outputs": [],
   "source": [
    "%matplotlib inline"
   ]
  },
  {
   "cell_type": "markdown",
   "metadata": {},
   "source": [
    "\n",
    "# Pipelining: chaining a PCA and a logistic regression\n",
    "\n",
    "The PCA does an unsupervised dimensionality reduction, while the logistic\n",
    "regression does the prediction.\n",
    "\n",
    "We use a GridSearchCV to set the dimensionality of the PCA\n"
   ]
  },
  {
   "cell_type": "code",
   "execution_count": 2,
   "metadata": {},
   "outputs": [
    {
     "name": "stdout",
     "output_type": "stream",
     "text": [
      "Automatically created module for IPython interactive environment\n",
      "Best parameter (CV score=0.920):\n",
      "{'logistic__C': 0.046415888336127774, 'pca__n_components': 45}\n"
     ]
    },
    {
     "data": {
      "image/png": "[encoded data removed]",
      "text/plain": [
       "<Figure size 432x432 with 2 Axes>"
      ]
     },
     "metadata": {
      "needs_background": "light"
     },
     "output_type": "display_data"
    }
   ],
   "source": [
    "print(__doc__)\n",
    "\n",
    "\n",
    "# Code source: Gaël Varoquaux\n",
    "# Modified for documentation by Jaques Grobler\n",
    "# License: BSD 3 clause\n",
    "\n",
    "\n",
    "import numpy as np\n",
    "import matplotlib.pyplot as plt\n",
    "import pandas as pd\n",
    "\n",
    "from sklearn import datasets\n",
    "from sklearn.decomposition import PCA\n",
    "from sklearn.linear_model import LogisticRegression\n",
    "from sklearn.pipeline import Pipeline\n",
    "from sklearn.model_selection import GridSearchCV\n",
    "\n",
    "\n",
    "# Define a pipeline to search for the best combination of PCA truncation\n",
    "# and classifier regularization.\n",
    "pca = PCA()\n",
    "# set the tolerance to a large value to make the example faster\n",
    "logistic = LogisticRegression(max_iter=10000, tol=0.1)\n",
    "pipe = Pipeline(steps=[('pca', pca), ('logistic', logistic)])\n",
    "\n",
    "X_digits, y_digits = datasets.load_digits(return_X_y=True)\n",
    "\n",
    "# Parameters of pipelines can be set using ‘__’ separated parameter names:\n",
    "param_grid = {\n",
    "    'pca__n_components': [5, 15, 30, 45, 64],\n",
    "    'logistic__C': np.logspace(-4, 4, 4),\n",
    "}\n",
    "search = GridSearchCV(pipe, param_grid, n_jobs=-1)\n",
    "search.fit(X_digits, y_digits)\n",
    "print(\"Best parameter (CV score=%0.3f):\" % search.best_score_)\n",
    "print(search.best_params_)\n",
    "\n",
    "# Plot the PCA spectrum\n",
    "pca.fit(X_digits)\n",
    "\n",
    "fig, (ax0, ax1) = plt.subplots(nrows=2, sharex=True, figsize=(6, 6))\n",
    "ax0.plot(np.arange(1, pca.n_components_ + 1),\n",
    "         pca.explained_variance_ratio_, '+', linewidth=2)\n",
    "ax0.set_ylabel('PCA explained variance ratio')\n",
    "\n",
    "ax0.axvline(search.best_estimator_.named_steps['pca'].n_components,\n",
    "            linestyle=':', label='n_components chosen')\n",
    "ax0.legend(prop=dict(size=12))\n",
    "\n",
    "# For each number of components, find the best classifier results\n",
    "results = pd.DataFrame(search.cv_results_)\n",
    "components_col = 'param_pca__n_components'\n",
    "best_clfs = results.groupby(components_col).apply(\n",
    "    lambda g: g.nlargest(1, 'mean_test_score'))\n",
    "\n",
    "best_clfs.plot(x=components_col, y='mean_test_score', yerr='std_test_score',\n",
    "               legend=False, ax=ax1)\n",
    "ax1.set_ylabel('Classification accuracy (val)')\n",
    "ax1.set_xlabel('n_components')\n",
    "\n",
    "plt.xlim(-1, 70)\n",
    "\n",
    "plt.tight_layout()\n",
    "plt.show()"
   ]
  },
  {
   "cell_type": "code",
   "execution_count": null,
   "metadata": {},
   "outputs": [],
   "source": [
    "print(__doc__)\n",
    "\n",
    "ray.shutdown()\n",
    "ray.init()\n",
    "\n",
    "# Code source: Gaël Varoquaux\n",
    "# Modified for documentation by Jaques Grobler\n",
    "# Modified for codeflare pipeline by Yuan-Chi Chang\n",
    "# License: Same as original code creator\n",
    "\n",
    "\n",
    "import numpy as np\n",
    "import matplotlib.pyplot as plt\n",
    "import pandas as pd\n",
    "\n",
    "from sklearn import datasets\n",
    "from sklearn.decomposition import PCA\n",
    "from sklearn.linear_model import LogisticRegression\n",
    "from sklearn.pipeline import Pipeline\n",
    "from sklearn.model_selection import GridSearchCV\n",
    "\n",
    "# Define a pipeline to search for the best combination of PCA truncation\n",
    "# and classifier regularization.\n",
    "pca_5 = PCA(n_components=5)\n",
    "pca_15 = PCA(n_components=15)\n",
    "pca_30 = PCA(n_components=30)\n",
    "pca_45 = PCA(n_components=45)\n",
    "pca_64 = PCA(n_components=64)\n",
    "\n",
    "# set the tolerance to a large value to make the example faster\n",
    "logistic_1 = LogisticRegression(max_iter=10000, tol=0.1, C=1.00000000e-04)\n",
    "logistic_2 = LogisticRegression(max_iter=10000, tol=0.1, C=4.64158883e-02)\n",
    "logistic_3 = LogisticRegression(max_iter=10000, tol=0.1, C=2.15443469e+01)\n",
    "logistic_4 = LogisticRegression(max_iter=10000, tol=0.1, C=1.00000000e+04)\n",
    "\n",
    "## initialize codeflare pipeline by first creating the nodes\n",
    "pipeline = dm.Pipeline()\n",
    "node_pca_5 = dm.EstimatorNode('pca_5', pca_5)\n",
    "node_pca_15 = dm.EstimatorNode('pca_15', pca_15)\n",
    "node_pca_30 = dm.EstimatorNode('pca_30', pca_30)\n",
    "node_pca_45 = dm.EstimatorNode('pca_45', pca_45)\n",
    "node_pca_64 = dm.EstimatorNode('pca_64', pca_64)\n",
    "\n",
    "node_logistic_1 = dm.EstimatorNode('logistic_1', logistic_1)\n",
    "node_logistic_2 = dm.EstimatorNode('logistic_2', logistic_2)\n",
    "node_logistic_3 = dm.EstimatorNode('logistic_3', logistic_3)\n",
    "node_logistic_4 = dm.EstimatorNode('logistic_4', logistic_4)\n",
    "\n",
    "## codeflare nodes are then connected by edges\n",
    "pipeline.add_edge(node_pca_5, node_logistic_1)\n",
    "pipeline.add_edge(node_pca_15, node_logistic_1)\n",
    "pipeline.add_edge(node_pca_30, node_logistic_1)\n",
    "pipeline.add_edge(node_pca_45, node_logistic_1)\n",
    "pipeline.add_edge(node_pca_64, node_logistic_1)\n",
    "\n",
    "pipeline.add_edge(node_pca_5, node_logistic_2)\n",
    "pipeline.add_edge(node_pca_15, node_logistic_2)\n",
    "pipeline.add_edge(node_pca_30, node_logistic_2)\n",
    "pipeline.add_edge(node_pca_45, node_logistic_2)\n",
    "pipeline.add_edge(node_pca_64, node_logistic_2)\n",
    "\n",
    "pipeline.add_edge(node_pca_5, node_logistic_3)\n",
    "pipeline.add_edge(node_pca_15, node_logistic_3)\n",
    "pipeline.add_edge(node_pca_30, node_logistic_3)\n",
    "pipeline.add_edge(node_pca_45, node_logistic_3)\n",
    "pipeline.add_edge(node_pca_64, node_logistic_3)\n",
    "\n",
    "pipeline.add_edge(node_pca_5, node_logistic_4)\n",
    "pipeline.add_edge(node_pca_15, node_logistic_4)\n",
    "pipeline.add_edge(node_pca_30, node_logistic_4)\n",
    "pipeline.add_edge(node_pca_45, node_logistic_4)\n",
    "pipeline.add_edge(node_pca_64, node_logistic_4)\n",
    "\n",
    "X_digits, y_digits = datasets.load_digits(return_X_y=True)\n",
    "\n",
    "# execute FIT\n",
    "pipeline_input = dm.PipelineInput()\n",
    "xy = dm.Xy(X_digits, y_digits)\n",
    "pipeline_input.add_xy_arg(node_pca_5, xy)\n",
    "pipeline_input.add_xy_arg(node_pca_15, xy)\n",
    "pipeline_input.add_xy_arg(node_pca_30, xy)\n",
    "pipeline_input.add_xy_arg(node_pca_45, xy)\n",
    "pipeline_input.add_xy_arg(node_pca_64, xy)\n",
    "\n",
    "# Parameters of pipelines can be set using ‘__’ separated parameter names:\n",
    "param_grid = {\n",
    "    'pca__n_components': [5, 15, 30, 45, 64],\n",
    "    'logistic__C': np.logspace(-4, 4, 4),\n",
    "}\n",
    "search = GridSearchCV(pipe, param_grid, n_jobs=-1)\n",
    "search.fit(X_digits, y_digits)\n",
    "print(\"Best parameter (CV score=%0.3f):\" % search.best_score_)\n",
    "print(search.best_params_)\n",
    "\n",
    "ray.shutdown()\n",
    "\n",
    "# Plot the PCA spectrum\n",
    "pca.fit(X_digits)\n",
    "\n",
    "fig, (ax0, ax1) = plt.subplots(nrows=2, sharex=True, figsize=(6, 6))\n",
    "ax0.plot(np.arange(1, pca.n_components_ + 1),\n",
    "         pca.explained_variance_ratio_, '+', linewidth=2)\n",
    "ax0.set_ylabel('PCA explained variance ratio')\n",
    "\n",
    "ax0.axvline(search.best_estimator_.named_steps['pca'].n_components,\n",
    "            linestyle=':', label='n_components chosen')\n",
    "ax0.legend(prop=dict(size=12))\n",
    "\n",
    "# For each number of components, find the best classifier results\n",
    "results = pd.DataFrame(search.cv_results_)\n",
    "components_col = 'param_pca__n_components'\n",
    "best_clfs = results.groupby(components_col).apply(\n",
    "    lambda g: g.nlargest(1, 'mean_test_score'))\n",
    "\n",
    "best_clfs.plot(x=components_col, y='mean_test_score', yerr='std_test_score',\n",
    "               legend=False, ax=ax1)\n",
    "ax1.set_ylabel('Classification accuracy (val)')\n",
    "ax1.set_xlabel('n_components')\n",
    "\n",
    "plt.xlim(-1, 70)\n",
    "\n",
    "plt.tight_layout()\n",
    "plt.show()"
   ]
  },
  {
   "cell_type": "code",
   "execution_count": 3,
   "metadata": {},
   "outputs": [
    {
     "data": {
      "text/plain": [
       "array([1.00000000e-04, 4.64158883e-02, 2.15443469e+01, 1.00000000e+04])"
      ]
     },
     "execution_count": 3,
     "metadata": {},
     "output_type": "execute_result"
    }
   ],
   "source": [
    "np.logspace(-4, 4, 4)"
   ]
  },
  {
   "cell_type": "code",
   "execution_count": null,
   "metadata": {},
   "outputs": [],
   "source": []
  }
 ],
 "metadata": {
  "kernelspec": {
   "display_name": "Python 3",
   "language": "python",
   "name": "python3"
  },
  "language_info": {
   "codemirror_mode": {
    "name": "ipython",
    "version": 3
   },
   "file_extension": ".py",
   "mimetype": "text/x-python",
   "name": "python",
   "nbconvert_exporter": "python",
   "pygments_lexer": "ipython3",
   "version": "3.8.8"
  }
 },
 "nbformat": 4,
 "nbformat_minor": 1
}
