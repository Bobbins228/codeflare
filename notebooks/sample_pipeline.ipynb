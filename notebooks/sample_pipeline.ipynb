{
 "cells": [
  {
   "cell_type": "code",
   "execution_count": null,
   "id": "described-lover",
   "metadata": {},
   "outputs": [],
   "source": [
    "%config IPCompleter.use_jedi = False"
   ]
  },
  {
   "cell_type": "code",
   "execution_count": null,
   "id": "simplified-summit",
   "metadata": {},
   "outputs": [],
   "source": [
    "import pandas as pd\n",
    "train = pd.read_csv('../resources/data/train_ctrUa4K.csv')\n",
    "test = pd.read_csv('../resources/data/test_lAUu6dG.csv')\n",
    "train = train.drop('Loan_ID', axis=1)\n",
    "train.dtypes"
   ]
  },
  {
   "cell_type": "code",
   "execution_count": null,
   "id": "configured-clinton",
   "metadata": {},
   "outputs": [],
   "source": [
    "train.shape"
   ]
  },
  {
   "cell_type": "code",
   "execution_count": null,
   "id": "confident-union",
   "metadata": {},
   "outputs": [],
   "source": [
    "X = train.drop('Loan_Status', axis=1)\n",
    "y = train['Loan_Status']\n",
    "from sklearn.model_selection import train_test_split\n",
    "X_train, X_test, y_train, y_test = train_test_split(X, y, test_size=0.2)"
   ]
  },
  {
   "cell_type": "code",
   "execution_count": null,
   "id": "visible-compact",
   "metadata": {},
   "outputs": [],
   "source": [
    "from sklearn.pipeline import Pipeline\n",
    "from sklearn.impute import SimpleImputer\n",
    "from sklearn.preprocessing import StandardScaler, OneHotEncoder\n",
    "\n",
    "imputer = SimpleImputer(strategy='median')\n",
    "scaler = StandardScaler()\n",
    "\n",
    "numeric_transformer = Pipeline(steps=[\n",
    "    ('imputer', imputer),\n",
    "    ('scaler', scaler)])\n",
    "\n",
    "cat_imputer = SimpleImputer(strategy='constant', fill_value='missing')\n",
    "cat_onehot = OneHotEncoder(handle_unknown='ignore')\n",
    "\n",
    "categorical_transformer = Pipeline(steps=[\n",
    "    ('imputer', cat_imputer),\n",
    "    ('onehot', cat_onehot)])"
   ]
  },
  {
   "cell_type": "code",
   "execution_count": null,
   "id": "stupid-miracle",
   "metadata": {},
   "outputs": [],
   "source": [
    "numeric_features = train.select_dtypes(include=['int64', 'float64']).columns\n",
    "categorical_features = train.select_dtypes(include=['object']).drop(['Loan_Status'], axis=1).columns\n",
    "from sklearn.compose import ColumnTransformer\n",
    "preprocessor = ColumnTransformer(\n",
    "    transformers=[\n",
    "        ('num', numeric_transformer, numeric_features),\n",
    "        ('cat', categorical_transformer, categorical_features)])"
   ]
  },
  {
   "cell_type": "code",
   "execution_count": null,
   "id": "accredited-japan",
   "metadata": {},
   "outputs": [],
   "source": [
    "import time\n",
    "\n",
    "start = time.time()\n",
    "Xt = preprocessor.fit(X_train)\n",
    "end = time.time()\n",
    "print('Time taken: ' + str(end - start))"
   ]
  },
  {
   "cell_type": "code",
   "execution_count": null,
   "id": "fundamental-builder",
   "metadata": {},
   "outputs": [],
   "source": [
    "from sklearn.ensemble import RandomForestClassifier\n",
    "rf = Pipeline(steps=[('preprocessor', preprocessor),\n",
    "                      ('classifier', RandomForestClassifier())])"
   ]
  },
  {
   "cell_type": "code",
   "execution_count": null,
   "id": "ahead-narrow",
   "metadata": {},
   "outputs": [],
   "source": [
    "from sklearn.base import ClassifierMixin\n",
    "from sklearn.base import BaseEstimator\n",
    "\n",
    "class ScaleTestEstimator(ClassifierMixin, BaseEstimator):\n",
    "    num_iters = 100\n",
    "    classifier : ClassifierMixin = None\n",
    "\n",
    "    def __init__(self, num_iters, classifier: ClassifierMixin):\n",
    "        self.num_iters = num_iters\n",
    "        self.classifier = classifier\n",
    "\n",
    "    def fit(self, X, y):\n",
    "        for i in range(self.num_iters):\n",
    "            self.classifier.fit(X, y)\n",
    "        return self\n",
    "            \n",
    "    def predict(self, X):\n",
    "        return self.classifier.predict(X)\n",
    "\n",
    "    def score(self, X, y, sample_weight=None):\n",
    "        return self.classifier.score(X, y, sample_weight)"
   ]
  },
  {
   "cell_type": "code",
   "execution_count": null,
   "id": "specialized-provider",
   "metadata": {},
   "outputs": [],
   "source": [
    "Xt = preprocessor.fit_transform(X_train)"
   ]
  },
  {
   "cell_type": "code",
   "execution_count": null,
   "id": "above-masters",
   "metadata": {},
   "outputs": [],
   "source": [
    "from sklearn.metrics import accuracy_score, log_loss\n",
    "from sklearn.neighbors import KNeighborsClassifier\n",
    "from sklearn.svm import SVC, LinearSVC, NuSVC\n",
    "from sklearn.tree import DecisionTreeClassifier\n",
    "from sklearn.ensemble import RandomForestClassifier, AdaBoostClassifier, GradientBoostingClassifier\n",
    "from sklearn.discriminant_analysis import LinearDiscriminantAnalysis\n",
    "from sklearn.discriminant_analysis import QuadraticDiscriminantAnalysis\n",
    "classifiers = [\n",
    "    KNeighborsClassifier(3),\n",
    "    SVC(kernel=\"rbf\", C=0.025, probability=True),\n",
    "    NuSVC(probability=True),\n",
    "    DecisionTreeClassifier(),\n",
    "    RandomForestClassifier(),\n",
    "    AdaBoostClassifier(),\n",
    "    GradientBoostingClassifier()\n",
    "    ]"
   ]
  },
  {
   "cell_type": "code",
   "execution_count": null,
   "id": "bacterial-morocco",
   "metadata": {},
   "outputs": [],
   "source": [
    "classifiers[0]"
   ]
  },
  {
   "cell_type": "code",
   "execution_count": null,
   "id": "sudden-british",
   "metadata": {},
   "outputs": [],
   "source": [
    "c_a = ScaleTestEstimator(50, DecisionTreeClassifier())\n",
    "c_b = ScaleTestEstimator(50, RandomForestClassifier())\n",
    "c_c = ScaleTestEstimator(50, GradientBoostingClassifier())\n",
    "classifiers = [c_a, c_b, c_c]"
   ]
  },
  {
   "cell_type": "code",
   "execution_count": null,
   "id": "imposed-practice",
   "metadata": {},
   "outputs": [],
   "source": [
    "import sklearn.base as base"
   ]
  },
  {
   "cell_type": "code",
   "execution_count": null,
   "id": "tired-breast",
   "metadata": {},
   "outputs": [],
   "source": [
    "base.is_classifier(c_a)"
   ]
  },
  {
   "cell_type": "code",
   "execution_count": null,
   "id": "overall-review",
   "metadata": {},
   "outputs": [],
   "source": [
    "base.clone(c_a)"
   ]
  },
  {
   "cell_type": "code",
   "execution_count": null,
   "id": "greatest-cancellation",
   "metadata": {},
   "outputs": [],
   "source": [
    "import time\n",
    "start = time.time()\n",
    "\n",
    "c_a = ScaleTestEstimator(50, DecisionTreeClassifier())\n",
    "c_b = ScaleTestEstimator(50, RandomForestClassifier())\n",
    "c_c = ScaleTestEstimator(50, GradientBoostingClassifier())\n",
    "classifiers = [c_a, c_b, c_c]\n",
    "\n",
    "classifier_results=[]\n",
    "for classifier in classifiers:\n",
    "    pipe = Pipeline(steps=[('preprocessor', preprocessor),\n",
    "                      ('classifier', classifier)])\n",
    "    pipe.fit(X_train, y_train)\n",
    "    pipe.predict(X_train)\n",
    "    \n",
    "end = time.time()\n",
    "tt = end - start\n",
    "print('time taken: ' + str(tt))"
   ]
  },
  {
   "cell_type": "code",
   "execution_count": null,
   "id": "a1757296",
   "metadata": {},
   "outputs": [],
   "source": [
    "c_a.classifier.feature_importances_"
   ]
  },
  {
   "cell_type": "code",
   "execution_count": null,
   "id": "coordinate-gossip",
   "metadata": {},
   "outputs": [],
   "source": [
    "import ray\n",
    "ray.shutdown()"
   ]
  },
  {
   "cell_type": "code",
   "execution_count": null,
   "id": "bfe20bd8",
   "metadata": {},
   "outputs": [],
   "source": [
    "ray.init()"
   ]
  },
  {
   "cell_type": "code",
   "execution_count": null,
   "id": "invisible-consensus",
   "metadata": {},
   "outputs": [],
   "source": [
    "import codeflare.pipelines.Datamodel as dm"
   ]
  },
  {
   "cell_type": "code",
   "execution_count": null,
   "id": "surface-recruitment",
   "metadata": {},
   "outputs": [],
   "source": [
    "pipeline = dm.Pipeline()"
   ]
  },
  {
   "cell_type": "code",
   "execution_count": null,
   "id": "humanitarian-boards",
   "metadata": {},
   "outputs": [],
   "source": [
    "node_a = dm.EstimatorNode('preprocess', preprocessor)\n",
    "node_b = dm.EstimatorNode('c_a', c_a)\n",
    "node_c = dm.EstimatorNode('c_b', c_b)\n",
    "node_d = dm.EstimatorNode('c_c', c_c)"
   ]
  },
  {
   "cell_type": "code",
   "execution_count": null,
   "id": "popular-bookmark",
   "metadata": {},
   "outputs": [],
   "source": [
    "pipeline.add_edge(node_a, node_b)\n",
    "pipeline.add_edge(node_a, node_c)\n",
    "pipeline.add_edge(node_a, node_d)"
   ]
  },
  {
   "cell_type": "code",
   "execution_count": null,
   "id": "ef9ff37b",
   "metadata": {},
   "outputs": [],
   "source": [
    "# create input\n",
    "pipeline_input = dm.PipelineInput()\n",
    "xy = dm.Xy(X_train, y_train)\n",
    "pipeline_input.add_xy_arg(node_a, xy)"
   ]
  },
  {
   "cell_type": "code",
   "execution_count": null,
   "id": "mineral-analyst",
   "metadata": {},
   "outputs": [],
   "source": [
    "import codeflare.pipelines.Runtime as rt"
   ]
  },
  {
   "cell_type": "code",
   "execution_count": null,
   "id": "literary-consolidation",
   "metadata": {},
   "outputs": [],
   "source": [
    "from codeflare.pipelines.Runtime import ExecutionType"
   ]
  },
  {
   "cell_type": "code",
   "execution_count": null,
   "id": "educated-basement",
   "metadata": {},
   "outputs": [],
   "source": [
    "start = time.time()\n",
    "\n",
    "pipeline_output = rt.execute_pipeline(pipeline, ExecutionType.FIT, pipeline_input)\n",
    "\n",
    "node_b_output = pipeline_output.get_xyrefs(node_b)\n",
    "node_c_output = pipeline_output.get_xyrefs(node_c)\n",
    "node_d_output = pipeline_output.get_xyrefs(node_d)\n",
    "\n",
    "end = time.time()\n",
    "print ('Time taken: ' + str(end - start))"
   ]
  },
  {
   "cell_type": "code",
   "execution_count": null,
   "id": "be9e1c3a",
   "metadata": {},
   "outputs": [],
   "source": [
    "node_b_output"
   ]
  },
  {
   "cell_type": "code",
   "execution_count": null,
   "id": "9e153862",
   "metadata": {},
   "outputs": [],
   "source": [
    "selected_pipeline = rt.select_pipeline(pipeline_output, node_b_output[0])"
   ]
  },
  {
   "cell_type": "code",
   "execution_count": null,
   "id": "c612e1b0",
   "metadata": {},
   "outputs": [],
   "source": [
    "print(selected_pipeline)"
   ]
  }
 ],
 "metadata": {
  "interpreter": {
   "hash": "aee8b7b246df8f9039afb4144a1f6fd8d2ca17a180786b69acc140d282b71a49"
  },
  "kernelspec": {
   "display_name": "Python 3",
   "language": "python",
   "name": "python3"
  },
  "language_info": {
   "codemirror_mode": {
    "name": "ipython",
    "version": 3
   },
   "file_extension": ".py",
   "mimetype": "text/x-python",
   "name": "python",
   "nbconvert_exporter": "python",
   "pygments_lexer": "ipython3",
   "version": "3.8.6"
  }
 },
 "nbformat": 4,
 "nbformat_minor": 5
}
