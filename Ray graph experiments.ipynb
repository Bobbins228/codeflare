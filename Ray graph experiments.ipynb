{
 "cells": [
  {
   "cell_type": "code",
   "execution_count": 1,
   "id": "israeli-batch",
   "metadata": {},
   "outputs": [],
   "source": [
    "import ray"
   ]
  },
  {
   "cell_type": "code",
   "execution_count": 2,
   "id": "loose-projector",
   "metadata": {},
   "outputs": [],
   "source": [
    "ray.shutdown()"
   ]
  },
  {
   "cell_type": "code",
   "execution_count": 3,
   "id": "renewable-western",
   "metadata": {},
   "outputs": [
    {
     "name": "stderr",
     "output_type": "stream",
     "text": [
      "2021-01-28 15:01:35,154\tINFO services.py:1166 -- View the Ray dashboard at \u001b[1m\u001b[32mhttp://127.0.0.1:8265\u001b[39m\u001b[22m\n"
     ]
    },
    {
     "data": {
      "text/plain": [
       "{'node_ip_address': '192.168.1.37',\n",
       " 'raylet_ip_address': '192.168.1.37',\n",
       " 'redis_address': '192.168.1.37:6379',\n",
       " 'object_store_address': '/tmp/ray/session_2021-01-28_15-01-34_643480_33619/sockets/plasma_store',\n",
       " 'raylet_socket_name': '/tmp/ray/session_2021-01-28_15-01-34_643480_33619/sockets/raylet',\n",
       " 'webui_url': '127.0.0.1:8265',\n",
       " 'session_dir': '/tmp/ray/session_2021-01-28_15-01-34_643480_33619',\n",
       " 'metrics_export_port': 55854}"
      ]
     },
     "execution_count": 3,
     "metadata": {},
     "output_type": "execute_result"
    }
   ],
   "source": [
    "ray.init()"
   ]
  },
  {
   "cell_type": "code",
   "execution_count": 4,
   "id": "scheduled-miami",
   "metadata": {},
   "outputs": [],
   "source": [
    "%config IPCompleter.use_jedi = False"
   ]
  },
  {
   "cell_type": "code",
   "execution_count": 41,
   "id": "leading-sheriff",
   "metadata": {},
   "outputs": [],
   "source": [
    "import numpy as np\n",
    "from sklearn.preprocessing import FunctionTransformer\n",
    "from sklearn.preprocessing import Binarizer\n",
    "\n",
    "transformer = FunctionTransformer(np.log1p)\n",
    "binarizer = Binarizer(threshold=0.5)"
   ]
  },
  {
   "cell_type": "code",
   "execution_count": 42,
   "id": "olive-usage",
   "metadata": {},
   "outputs": [],
   "source": [
    "import com.ibm.research.ray.graph.Datamodel as dm\n",
    "\n",
    "pipeline = dm.Pipeline()\n",
    "\n",
    "node_a = dm.Node('a', transformer)\n",
    "node_b = dm.Node('b', transformer)\n",
    "node_c = dm.Node('c', transformer)\n",
    "node_d = dm.Node('d', binarizer)\n",
    "\n",
    "pipeline.add_edge(node_a, node_b)\n",
    "pipeline.add_edge(node_b, node_c)\n",
    "pipeline.add_edge(node_b, node_d)"
   ]
  },
  {
   "cell_type": "code",
   "execution_count": 34,
   "id": "behind-dairy",
   "metadata": {},
   "outputs": [],
   "source": [
    "X = np.array([0, 1, 2, 3])"
   ]
  },
  {
   "cell_type": "code",
   "execution_count": 23,
   "id": "amended-gravity",
   "metadata": {},
   "outputs": [
    {
     "data": {
      "text/plain": [
       "array([0.        , 0.42303586, 0.55461836, 0.62580029])"
      ]
     },
     "execution_count": 23,
     "metadata": {},
     "output_type": "execute_result"
    }
   ],
   "source": [
    "transformer.transform(transformer.transform(transformer.transform(X)))"
   ]
  },
  {
   "cell_type": "code",
   "execution_count": 24,
   "id": "romance-sender",
   "metadata": {},
   "outputs": [],
   "source": [
    "xref = ray.put(X)"
   ]
  },
  {
   "cell_type": "code",
   "execution_count": 35,
   "id": "handy-offset",
   "metadata": {},
   "outputs": [],
   "source": [
    "import com.ibm.research.ray.graph.Runtime as rt"
   ]
  },
  {
   "cell_type": "code",
   "execution_count": 36,
   "id": "copyrighted-procurement",
   "metadata": {},
   "outputs": [],
   "source": [
    "in_args={node_a: [xref]}"
   ]
  },
  {
   "cell_type": "code",
   "execution_count": 43,
   "id": "specialized-health",
   "metadata": {
    "scrolled": true
   },
   "outputs": [],
   "source": [
    "out_args = rt.execute_pipeline(pipeline, in_args)"
   ]
  },
  {
   "cell_type": "code",
   "execution_count": 44,
   "id": "binding-praise",
   "metadata": {},
   "outputs": [
    {
     "name": "stdout",
     "output_type": "stream",
     "text": [
      "c\n",
      "d\n"
     ]
    }
   ],
   "source": [
    "for key in out_args.keys():\n",
    "    print(str(key))"
   ]
  },
  {
   "cell_type": "code",
   "execution_count": 45,
   "id": "living-destiny",
   "metadata": {},
   "outputs": [
    {
     "data": {
      "text/plain": [
       "[array([0.        , 0.42303586, 0.55461836, 0.62580029])]"
      ]
     },
     "execution_count": 45,
     "metadata": {},
     "output_type": "execute_result"
    }
   ],
   "source": [
    "ray.get(out_args[node_c])"
   ]
  },
  {
   "cell_type": "code",
   "execution_count": 46,
   "id": "vanilla-wrong",
   "metadata": {},
   "outputs": [
    {
     "ename": "RayTaskError(ValueError)",
     "evalue": "\u001b[36mray::execute_node()\u001b[39m (pid=33653, ip=192.168.1.37)\n  File \"python/ray/_raylet.pyx\", line 484, in ray._raylet.execute_task\n  File \"/Users/rganti/PycharmProjects/ray-graphs/com/ibm/research/ray/graph/Runtime.py\", line 9, in execute_node\n    return node.get_transformer().transform(args)\n  File \"/Users/rganti/PycharmProjects/ray-graphs/venv37/lib/python3.7/site-packages/sklearn/preprocessing/_data.py\", line 2207, in transform\n    reset=False)\n  File \"/Users/rganti/PycharmProjects/ray-graphs/venv37/lib/python3.7/site-packages/sklearn/base.py\", line 421, in _validate_data\n    X = check_array(X, **check_params)\n  File \"/Users/rganti/PycharmProjects/ray-graphs/venv37/lib/python3.7/site-packages/sklearn/utils/validation.py\", line 63, in inner_f\n    return f(*args, **kwargs)\n  File \"/Users/rganti/PycharmProjects/ray-graphs/venv37/lib/python3.7/site-packages/sklearn/utils/validation.py\", line 641, in check_array\n    \"if it contains a single sample.\".format(array))\nValueError: Expected 2D array, got 1D array instead:\narray=[0.         0.52658903 0.74127631 0.86974169].\nReshape your data either using array.reshape(-1, 1) if your data has a single feature or array.reshape(1, -1) if it contains a single sample.",
     "output_type": "error",
     "traceback": [
      "\u001b[0;31m---------------------------------------------------------------------------\u001b[0m",
      "\u001b[0;31mRayTaskError(ValueError)\u001b[0m                  Traceback (most recent call last)",
      "\u001b[0;32m<ipython-input-46-4fc04be03d7a>\u001b[0m in \u001b[0;36m<module>\u001b[0;34m\u001b[0m\n\u001b[0;32m----> 1\u001b[0;31m \u001b[0mray\u001b[0m\u001b[0;34m.\u001b[0m\u001b[0mget\u001b[0m\u001b[0;34m(\u001b[0m\u001b[0mout_args\u001b[0m\u001b[0;34m[\u001b[0m\u001b[0mnode_d\u001b[0m\u001b[0;34m]\u001b[0m\u001b[0;34m)\u001b[0m\u001b[0;34m\u001b[0m\u001b[0;34m\u001b[0m\u001b[0m\n\u001b[0m",
      "\u001b[0;32m~/Library/Python/3.7/lib/python/site-packages/ray/worker.py\u001b[0m in \u001b[0;36mget\u001b[0;34m(object_refs, timeout)\u001b[0m\n\u001b[1;32m   1426\u001b[0m                     \u001b[0mworker\u001b[0m\u001b[0;34m.\u001b[0m\u001b[0mcore_worker\u001b[0m\u001b[0;34m.\u001b[0m\u001b[0mdump_object_store_memory_usage\u001b[0m\u001b[0;34m(\u001b[0m\u001b[0;34m)\u001b[0m\u001b[0;34m\u001b[0m\u001b[0;34m\u001b[0m\u001b[0m\n\u001b[1;32m   1427\u001b[0m                 \u001b[0;32mif\u001b[0m \u001b[0misinstance\u001b[0m\u001b[0;34m(\u001b[0m\u001b[0mvalue\u001b[0m\u001b[0;34m,\u001b[0m \u001b[0mRayTaskError\u001b[0m\u001b[0;34m)\u001b[0m\u001b[0;34m:\u001b[0m\u001b[0;34m\u001b[0m\u001b[0;34m\u001b[0m\u001b[0m\n\u001b[0;32m-> 1428\u001b[0;31m                     \u001b[0;32mraise\u001b[0m \u001b[0mvalue\u001b[0m\u001b[0;34m.\u001b[0m\u001b[0mas_instanceof_cause\u001b[0m\u001b[0;34m(\u001b[0m\u001b[0;34m)\u001b[0m\u001b[0;34m\u001b[0m\u001b[0;34m\u001b[0m\u001b[0m\n\u001b[0m\u001b[1;32m   1429\u001b[0m                 \u001b[0;32melse\u001b[0m\u001b[0;34m:\u001b[0m\u001b[0;34m\u001b[0m\u001b[0;34m\u001b[0m\u001b[0m\n\u001b[1;32m   1430\u001b[0m                     \u001b[0;32mraise\u001b[0m \u001b[0mvalue\u001b[0m\u001b[0;34m\u001b[0m\u001b[0;34m\u001b[0m\u001b[0m\n",
      "\u001b[0;31mRayTaskError(ValueError)\u001b[0m: \u001b[36mray::execute_node()\u001b[39m (pid=33653, ip=192.168.1.37)\n  File \"python/ray/_raylet.pyx\", line 484, in ray._raylet.execute_task\n  File \"/Users/rganti/PycharmProjects/ray-graphs/com/ibm/research/ray/graph/Runtime.py\", line 9, in execute_node\n    return node.get_transformer().transform(args)\n  File \"/Users/rganti/PycharmProjects/ray-graphs/venv37/lib/python3.7/site-packages/sklearn/preprocessing/_data.py\", line 2207, in transform\n    reset=False)\n  File \"/Users/rganti/PycharmProjects/ray-graphs/venv37/lib/python3.7/site-packages/sklearn/base.py\", line 421, in _validate_data\n    X = check_array(X, **check_params)\n  File \"/Users/rganti/PycharmProjects/ray-graphs/venv37/lib/python3.7/site-packages/sklearn/utils/validation.py\", line 63, in inner_f\n    return f(*args, **kwargs)\n  File \"/Users/rganti/PycharmProjects/ray-graphs/venv37/lib/python3.7/site-packages/sklearn/utils/validation.py\", line 641, in check_array\n    \"if it contains a single sample.\".format(array))\nValueError: Expected 2D array, got 1D array instead:\narray=[0.         0.52658903 0.74127631 0.86974169].\nReshape your data either using array.reshape(-1, 1) if your data has a single feature or array.reshape(1, -1) if it contains a single sample."
     ]
    }
   ],
   "source": [
    "ray.get(out_args[node_d])"
   ]
  },
  {
   "cell_type": "code",
   "execution_count": 48,
   "id": "decreased-showcase",
   "metadata": {},
   "outputs": [],
   "source": [
    "from sklearn.preprocessing import MinMaxScaler\n",
    "\n",
    "scaler = MinMaxScaler()"
   ]
  },
  {
   "cell_type": "code",
   "execution_count": 49,
   "id": "objective-province",
   "metadata": {},
   "outputs": [
    {
     "ename": "NotFittedError",
     "evalue": "This MinMaxScaler instance is not fitted yet. Call 'fit' with appropriate arguments before using this estimator.",
     "output_type": "error",
     "traceback": [
      "\u001b[0;31m---------------------------------------------------------------------------\u001b[0m",
      "\u001b[0;31mNotFittedError\u001b[0m                            Traceback (most recent call last)",
      "\u001b[0;32m<ipython-input-49-b8a40112f386>\u001b[0m in \u001b[0;36m<module>\u001b[0;34m\u001b[0m\n\u001b[0;32m----> 1\u001b[0;31m \u001b[0mscaler\u001b[0m\u001b[0;34m.\u001b[0m\u001b[0mtransform\u001b[0m\u001b[0;34m(\u001b[0m\u001b[0mX\u001b[0m\u001b[0;34m)\u001b[0m\u001b[0;34m\u001b[0m\u001b[0;34m\u001b[0m\u001b[0m\n\u001b[0m",
      "\u001b[0;32m~/PycharmProjects/ray-graphs/venv37/lib/python3.7/site-packages/sklearn/preprocessing/_data.py\u001b[0m in \u001b[0;36mtransform\u001b[0;34m(self, X)\u001b[0m\n\u001b[1;32m    430\u001b[0m             \u001b[0mTransformed\u001b[0m \u001b[0mdata\u001b[0m\u001b[0;34m.\u001b[0m\u001b[0;34m\u001b[0m\u001b[0;34m\u001b[0m\u001b[0m\n\u001b[1;32m    431\u001b[0m         \"\"\"\n\u001b[0;32m--> 432\u001b[0;31m         \u001b[0mcheck_is_fitted\u001b[0m\u001b[0;34m(\u001b[0m\u001b[0mself\u001b[0m\u001b[0;34m)\u001b[0m\u001b[0;34m\u001b[0m\u001b[0;34m\u001b[0m\u001b[0m\n\u001b[0m\u001b[1;32m    433\u001b[0m \u001b[0;34m\u001b[0m\u001b[0m\n\u001b[1;32m    434\u001b[0m         X = self._validate_data(X, copy=self.copy, dtype=FLOAT_DTYPES,\n",
      "\u001b[0;32m~/PycharmProjects/ray-graphs/venv37/lib/python3.7/site-packages/sklearn/utils/validation.py\u001b[0m in \u001b[0;36minner_f\u001b[0;34m(*args, **kwargs)\u001b[0m\n\u001b[1;32m     61\u001b[0m             \u001b[0mextra_args\u001b[0m \u001b[0;34m=\u001b[0m \u001b[0mlen\u001b[0m\u001b[0;34m(\u001b[0m\u001b[0margs\u001b[0m\u001b[0;34m)\u001b[0m \u001b[0;34m-\u001b[0m \u001b[0mlen\u001b[0m\u001b[0;34m(\u001b[0m\u001b[0mall_args\u001b[0m\u001b[0;34m)\u001b[0m\u001b[0;34m\u001b[0m\u001b[0;34m\u001b[0m\u001b[0m\n\u001b[1;32m     62\u001b[0m             \u001b[0;32mif\u001b[0m \u001b[0mextra_args\u001b[0m \u001b[0;34m<=\u001b[0m \u001b[0;36m0\u001b[0m\u001b[0;34m:\u001b[0m\u001b[0;34m\u001b[0m\u001b[0;34m\u001b[0m\u001b[0m\n\u001b[0;32m---> 63\u001b[0;31m                 \u001b[0;32mreturn\u001b[0m \u001b[0mf\u001b[0m\u001b[0;34m(\u001b[0m\u001b[0;34m*\u001b[0m\u001b[0margs\u001b[0m\u001b[0;34m,\u001b[0m \u001b[0;34m**\u001b[0m\u001b[0mkwargs\u001b[0m\u001b[0;34m)\u001b[0m\u001b[0;34m\u001b[0m\u001b[0;34m\u001b[0m\u001b[0m\n\u001b[0m\u001b[1;32m     64\u001b[0m \u001b[0;34m\u001b[0m\u001b[0m\n\u001b[1;32m     65\u001b[0m             \u001b[0;31m# extra_args > 0\u001b[0m\u001b[0;34m\u001b[0m\u001b[0;34m\u001b[0m\u001b[0;34m\u001b[0m\u001b[0m\n",
      "\u001b[0;32m~/PycharmProjects/ray-graphs/venv37/lib/python3.7/site-packages/sklearn/utils/validation.py\u001b[0m in \u001b[0;36mcheck_is_fitted\u001b[0;34m(estimator, attributes, msg, all_or_any)\u001b[0m\n\u001b[1;32m   1039\u001b[0m \u001b[0;34m\u001b[0m\u001b[0m\n\u001b[1;32m   1040\u001b[0m     \u001b[0;32mif\u001b[0m \u001b[0;32mnot\u001b[0m \u001b[0mattrs\u001b[0m\u001b[0;34m:\u001b[0m\u001b[0;34m\u001b[0m\u001b[0;34m\u001b[0m\u001b[0m\n\u001b[0;32m-> 1041\u001b[0;31m         \u001b[0;32mraise\u001b[0m \u001b[0mNotFittedError\u001b[0m\u001b[0;34m(\u001b[0m\u001b[0mmsg\u001b[0m \u001b[0;34m%\u001b[0m \u001b[0;34m{\u001b[0m\u001b[0;34m'name'\u001b[0m\u001b[0;34m:\u001b[0m \u001b[0mtype\u001b[0m\u001b[0;34m(\u001b[0m\u001b[0mestimator\u001b[0m\u001b[0;34m)\u001b[0m\u001b[0;34m.\u001b[0m\u001b[0m__name__\u001b[0m\u001b[0;34m}\u001b[0m\u001b[0;34m)\u001b[0m\u001b[0;34m\u001b[0m\u001b[0;34m\u001b[0m\u001b[0m\n\u001b[0m\u001b[1;32m   1042\u001b[0m \u001b[0;34m\u001b[0m\u001b[0m\n\u001b[1;32m   1043\u001b[0m \u001b[0;34m\u001b[0m\u001b[0m\n",
      "\u001b[0;31mNotFittedError\u001b[0m: This MinMaxScaler instance is not fitted yet. Call 'fit' with appropriate arguments before using this estimator."
     ]
    }
   ],
   "source": [
    "scaler.transform(X)"
   ]
  },
  {
   "cell_type": "code",
   "execution_count": null,
   "id": "beautiful-extension",
   "metadata": {},
   "outputs": [],
   "source": []
  },
  {
   "cell_type": "code",
   "execution_count": null,
   "id": "abandoned-andorra",
   "metadata": {},
   "outputs": [],
   "source": [
    "if not l:\n",
    "    print('True')"
   ]
  },
  {
   "cell_type": "code",
   "execution_count": null,
   "id": "subject-pakistan",
   "metadata": {},
   "outputs": [],
   "source": []
  },
  {
   "cell_type": "code",
   "execution_count": null,
   "id": "chemical-makeup",
   "metadata": {},
   "outputs": [],
   "source": []
  },
  {
   "cell_type": "code",
   "execution_count": null,
   "id": "north-laundry",
   "metadata": {},
   "outputs": [],
   "source": []
  }
 ],
 "metadata": {
  "kernelspec": {
   "display_name": "Python 3",
   "language": "python",
   "name": "python3"
  },
  "language_info": {
   "codemirror_mode": {
    "name": "ipython",
    "version": 3
   },
   "file_extension": ".py",
   "mimetype": "text/x-python",
   "name": "python",
   "nbconvert_exporter": "python",
   "pygments_lexer": "ipython3",
   "version": "3.7.9"
  }
 },
 "nbformat": 4,
 "nbformat_minor": 5
}
